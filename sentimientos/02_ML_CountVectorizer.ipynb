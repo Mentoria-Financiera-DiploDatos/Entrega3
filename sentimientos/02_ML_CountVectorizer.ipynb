{
 "cells": [
  {
   "cell_type": "markdown",
   "metadata": {
    "id": "kgMEw-qD4X0-"
   },
   "source": [
    "# Trabajo de Mentoria - DiploDatos\n",
    "\n",
    "**Grupo A**\n",
    "    \n",
    "Integrantes: \n",
    "    <li> Bruno Garcia\n",
    "    <li> Nicolas Chiapello\n",
    "    <li> Martin Peñas\n",
    "    <li> Pame Pairo"
   ]
  },
  {
   "cell_type": "markdown",
   "metadata": {
    "id": "V7CJdzArBBw4"
   },
   "source": [
    "## Vectorización: CountVectorizer\n",
    "\n",
    "CountVectorizer describe la ocurrencia de palabras dentro de los datos de texto. Da un resultado de 1 si está presente en la oración y 0 si no está presente. Por lo tanto, crea una bolsa de palabras con un recuento de matrices de documentos en cada documento de texto. "
   ]
  },
  {
   "cell_type": "code",
   "execution_count": 1,
   "metadata": {},
   "outputs": [
    {
     "data": {
      "text/html": [
       "<div>\n",
       "<style scoped>\n",
       "    .dataframe tbody tr th:only-of-type {\n",
       "        vertical-align: middle;\n",
       "    }\n",
       "\n",
       "    .dataframe tbody tr th {\n",
       "        vertical-align: top;\n",
       "    }\n",
       "\n",
       "    .dataframe thead th {\n",
       "        text-align: right;\n",
       "    }\n",
       "</style>\n",
       "<table border=\"1\" class=\"dataframe\">\n",
       "  <thead>\n",
       "    <tr style=\"text-align: right;\">\n",
       "      <th></th>\n",
       "      <th>Unnamed: 0</th>\n",
       "      <th>feeling</th>\n",
       "      <th>news</th>\n",
       "      <th>news_tokens</th>\n",
       "      <th>news_tokens_tagged</th>\n",
       "    </tr>\n",
       "  </thead>\n",
       "  <tbody>\n",
       "    <tr>\n",
       "      <th>0</th>\n",
       "      <td>0</td>\n",
       "      <td>neutral</td>\n",
       "      <td>According to Gran , the company has no plans t...</td>\n",
       "      <td>['accord', 'gran', 'company', 'plan', 'move', ...</td>\n",
       "      <td>[('accord', 'NN'), ('gran', 'VBD'), ('company'...</td>\n",
       "    </tr>\n",
       "    <tr>\n",
       "      <th>1</th>\n",
       "      <td>1</td>\n",
       "      <td>neutral</td>\n",
       "      <td>Technopolis plans to develop in stages an area...</td>\n",
       "      <td>['technopolis', 'plan', 'develop', 'stage', 'a...</td>\n",
       "      <td>[('technopolis', 'NN'), ('plan', 'NN'), ('deve...</td>\n",
       "    </tr>\n",
       "    <tr>\n",
       "      <th>2</th>\n",
       "      <td>2</td>\n",
       "      <td>negative</td>\n",
       "      <td>The international electronic industry company ...</td>\n",
       "      <td>['international', 'electronic', 'industry', 'c...</td>\n",
       "      <td>[('international', 'JJ'), ('electronic', 'JJ')...</td>\n",
       "    </tr>\n",
       "  </tbody>\n",
       "</table>\n",
       "</div>"
      ],
      "text/plain": [
       "   Unnamed: 0   feeling                                               news  \\\n",
       "0           0   neutral  According to Gran , the company has no plans t...   \n",
       "1           1   neutral  Technopolis plans to develop in stages an area...   \n",
       "2           2  negative  The international electronic industry company ...   \n",
       "\n",
       "                                         news_tokens  \\\n",
       "0  ['accord', 'gran', 'company', 'plan', 'move', ...   \n",
       "1  ['technopolis', 'plan', 'develop', 'stage', 'a...   \n",
       "2  ['international', 'electronic', 'industry', 'c...   \n",
       "\n",
       "                                  news_tokens_tagged  \n",
       "0  [('accord', 'NN'), ('gran', 'VBD'), ('company'...  \n",
       "1  [('technopolis', 'NN'), ('plan', 'NN'), ('deve...  \n",
       "2  [('international', 'JJ'), ('electronic', 'JJ')...  "
      ]
     },
     "execution_count": 1,
     "metadata": {},
     "output_type": "execute_result"
    }
   ],
   "source": [
    "import pandas as pd \n",
    "\n",
    "df_news= pd.read_csv(\"data/feeling_procesado.csv\")\n",
    "df_news.head(3)"
   ]
  },
  {
   "cell_type": "markdown",
   "metadata": {
    "id": "0_lAfiswOPh5"
   },
   "source": [
    "## *Aprendizaje Automático*"
   ]
  },
  {
   "cell_type": "markdown",
   "metadata": {
    "id": "Z65MsRAwBHku"
   },
   "source": [
    "#### Train/Test Split"
   ]
  },
  {
   "cell_type": "code",
   "execution_count": 2,
   "metadata": {
    "id": "yeug9HeQA8Pa"
   },
   "outputs": [],
   "source": [
    "from sklearn.model_selection import train_test_split\n",
    "from sklearn.feature_extraction.text import CountVectorizer\n",
    "\n",
    "X_train, X_test, y_train, y_test = train_test_split(df_news.news_tokens, df_news.feeling, test_size=0.2, random_state=42)"
   ]
  },
  {
   "cell_type": "code",
   "execution_count": 3,
   "metadata": {},
   "outputs": [],
   "source": [
    "#Realizamos el CV con los textos preprocesados para train y test por separado.\n",
    "cv = CountVectorizer(lowercase=False)\n",
    "X_train = cv.fit_transform(X_train).toarray()\n",
    "X_test = cv.transform(X_test).toarray()"
   ]
  },
  {
   "cell_type": "code",
   "execution_count": 4,
   "metadata": {
    "colab": {
     "base_uri": "https://localhost:8080/"
    },
    "id": "bBqUFE0ecp91",
    "outputId": "afce482a-ce81-41be-a433-884bdea987dc"
   },
   "outputs": [
    {
     "name": "stdout",
     "output_type": "stream",
     "text": [
      "0.2813953488372093\n",
      "0.5935400516795866\n",
      "0.12506459948320414\n"
     ]
    },
    {
     "data": {
      "text/plain": [
       "3870"
      ]
     },
     "execution_count": 4,
     "metadata": {},
     "output_type": "execute_result"
    }
   ],
   "source": [
    "print(y_train[y_train == 'positive'].size/y_train.size)\n",
    "print(y_train[y_train == 'neutral'].size/y_train.size)\n",
    "print(y_train[y_train == 'negative'].size/y_train.size)\n",
    "y_train.size"
   ]
  },
  {
   "cell_type": "code",
   "execution_count": 5,
   "metadata": {
    "colab": {
     "base_uri": "https://localhost:8080/"
    },
    "id": "gSunq_TffmSr",
    "outputId": "dccb073b-4bab-46d0-cb06-c2243421f60d"
   },
   "outputs": [
    {
     "name": "stdout",
     "output_type": "stream",
     "text": [
      "0.28202479338842973\n",
      "0.59400826446281\n",
      "0.12396694214876033\n"
     ]
    },
    {
     "data": {
      "text/plain": [
       "968"
      ]
     },
     "execution_count": 5,
     "metadata": {},
     "output_type": "execute_result"
    }
   ],
   "source": [
    "print(y_test[y_test == 'positive'].size/y_test.size)\n",
    "print(y_test[y_test == 'neutral'].size/y_test.size)\n",
    "print(y_test[y_test == 'negative'].size/y_test.size)\n",
    "y_test.size"
   ]
  },
  {
   "cell_type": "code",
   "execution_count": 6,
   "metadata": {
    "id": "8VQ9VPIoc93O"
   },
   "outputs": [],
   "source": [
    "from sklearn.metrics import classification_report\n",
    "from sklearn.model_selection import GridSearchCV\n",
    "from sklearn.metrics import confusion_matrix"
   ]
  },
  {
   "cell_type": "code",
   "execution_count": 7,
   "metadata": {
    "id": "SGJaNKTkhRIL"
   },
   "outputs": [],
   "source": [
    "import itertools\n",
    "import numpy as np\n",
    "import matplotlib.pyplot as plt\n",
    "\n",
    "\n",
    "def plot_decision_boundary(model, X, y):\n",
    "    X = X.T\n",
    "    y = y.T\n",
    "\n",
    "    # Set min and max values and give it some padding\n",
    "    x_min, x_max = X[0, :].min() - 1, X[0, :].max() + 1\n",
    "    y_min, y_max = X[1, :].min() - 1, X[1, :].max() + 1\n",
    "    h = 0.01\n",
    "\n",
    "    # Generate a grid of points with distance h between them\n",
    "    xx, yy = np.meshgrid(np.arange(x_min, x_max, h), np.arange(y_min, y_max, h))\n",
    "\n",
    "    # Predict the function value for the whole grid\n",
    "    Z = model(np.c_[xx.ravel(), yy.ravel()])\n",
    "    Z = Z.reshape(xx.shape)\n",
    "\n",
    "    # Plot the contour and training examples\n",
    "    plt.contourf(xx, yy, Z, cmap=plt.cm.ocean)\n",
    "    plt.scatter(X[0, y==1], X[1, y==1], color=\"dodgerblue\", edgecolors='k', label=\"1\")\n",
    "    plt.scatter(X[0, y==-1], X[1, y==-1], color=\"tomato\", edgecolors='k', label=\"-1\")\n",
    "    plt.legend()\n",
    "\n",
    "\n",
    "def plot_confusion_matrix(cm, classes,\n",
    "                          normalize=False,\n",
    "                          title='Confusion matrix',\n",
    "                          cmap=plt.cm.Blues):\n",
    "    \"\"\"\n",
    "    This function prints and plots the confusion matrix.\n",
    "    Normalization can be applied by setting `normalize=True`.\n",
    "    \"\"\"\n",
    "    if normalize:\n",
    "        cm = cm.astype('float') / cm.sum(axis=1)[:, np.newaxis]\n",
    "\n",
    "    plt.imshow(cm, interpolation='nearest', cmap=cmap)\n",
    "    plt.title(title)\n",
    "    plt.colorbar()\n",
    "    tick_marks = np.arange(len(classes))\n",
    "    plt.xticks(tick_marks, classes, rotation=45)\n",
    "    plt.yticks(tick_marks, classes)\n",
    "\n",
    "    fmt = '.2f' if normalize else 'd'\n",
    "    thresh = cm.max() / 2.\n",
    "    for i, j in itertools.product(range(cm.shape[0]), range(cm.shape[1])):\n",
    "        plt.text(j, i, format(cm[i, j], fmt),\n",
    "                 horizontalalignment=\"center\",\n",
    "                 color=\"white\" if cm[i, j] > thresh else \"black\")\n",
    "\n",
    "    plt.tight_layout()\n",
    "    plt.ylabel('Etiqueta correcta')\n",
    "    plt.xlabel('Etiqueta predicha')"
   ]
  },
  {
   "cell_type": "markdown",
   "metadata": {
    "id": "9_ScxqcJpQmW"
   },
   "source": [
    "### **Logistic Regresion**"
   ]
  },
  {
   "cell_type": "code",
   "execution_count": 9,
   "metadata": {
    "id": "kt7EpGvXpZmw"
   },
   "outputs": [
    {
     "name": "stderr",
     "output_type": "stream",
     "text": [
      "C:\\Users\\Pame\\anaconda3\\envs\\diplo\\lib\\site-packages\\sklearn\\model_selection\\_search.py:922: UserWarning: One or more of the test scores are non-finite: [       nan        nan 0.68884462        nan 0.68370036 0.66634985\n",
      " 0.66634985 0.66645151 0.66634985 0.6666187         nan        nan\n",
      "        nan        nan        nan 0.60400729 0.64815908        nan\n",
      " 0.66466787 0.67242779]\n",
      "  warnings.warn(\n"
     ]
    },
    {
     "data": {
      "text/plain": [
       "GridSearchCV(cv=3, estimator=LogisticRegression(), n_jobs=-1,\n",
       "             param_grid={'penalty': ['l1', 'l2', 'elasticnet', 'none'],\n",
       "                         'solver': ['newton-cg', 'lbfgs', 'liblinear', 'sag',\n",
       "                                    'saga']},\n",
       "             scoring='f1_macro')"
      ]
     },
     "execution_count": 9,
     "metadata": {},
     "output_type": "execute_result"
    }
   ],
   "source": [
    "from sklearn.linear_model import LogisticRegression\n",
    "\n",
    "# Selección de parámetros\n",
    "params = {\n",
    "    'penalty':['l1', 'l2', 'elasticnet', 'none'],\n",
    "    'solver': ['newton-cg', 'lbfgs', 'liblinear', 'sag', 'saga']\n",
    "}\n",
    "\n",
    "Logreg = LogisticRegression()\n",
    "Logreg_clf = GridSearchCV(Logreg, params, cv=3, scoring='f1_macro', n_jobs=-1)\n",
    "Logreg_clf.fit(X_train, y_train)"
   ]
  },
  {
   "cell_type": "code",
   "execution_count": 9,
   "metadata": {
    "id": "qasM1JqDp6Qp"
   },
   "outputs": [],
   "source": [
    "# Logreg_clf = RandomizedSearchCV(Logreg, params, n_iter=36, cv=2, random_state=0, n_jobs=-1)\n",
    "# Logreg_clf.fit(X_train, y_train)\n",
    "\n",
    "# best_Logreg = Logreg_clf.best_estimator_"
   ]
  },
  {
   "cell_type": "code",
   "execution_count": 10,
   "metadata": {
    "colab": {
     "base_uri": "https://localhost:8080/"
    },
    "id": "EJ1E6q6dlOY0",
    "outputId": "83e2b87a-db47-4073-edd4-0f6c56d19dc1"
   },
   "outputs": [
    {
     "name": "stdout",
     "output_type": "stream",
     "text": [
      "LogisticRegression(penalty='l1', solver='liblinear')\n"
     ]
    }
   ],
   "source": [
    "best_Logreg = Logreg_clf.best_estimator_\n",
    "print(best_Logreg)"
   ]
  },
  {
   "cell_type": "code",
   "execution_count": 14,
   "metadata": {},
   "outputs": [
    {
     "name": "stdout",
     "output_type": "stream",
     "text": [
      "=====================================================================\n",
      "Regresión Logística - Reporte de clasificación del conjunto de testeo\n",
      "=====================================================================\n",
      "              precision    recall  f1-score   support\n",
      "\n",
      "    negative       0.69      0.59      0.64       120\n",
      "     neutral       0.80      0.87      0.83       575\n",
      "    positive       0.69      0.61      0.65       273\n",
      "\n",
      "    accuracy                           0.76       968\n",
      "   macro avg       0.73      0.69      0.71       968\n",
      "weighted avg       0.75      0.76      0.76       968\n",
      "\n"
     ]
    }
   ],
   "source": [
    "text = \"Regresión Logística - Reporte de clasificación del conjunto de testeo\"\n",
    "print(len(text)*\"=\")\n",
    "print(text)\n",
    "print(len(text)*\"=\")\n",
    "print(classification_report(y_test, best_Logreg.predict(X_test)))"
   ]
  },
  {
   "cell_type": "code",
   "execution_count": 15,
   "metadata": {
    "colab": {
     "base_uri": "https://localhost:8080/",
     "height": 319
    },
    "id": "0AT77hhilLD9",
    "outputId": "5f016fe6-625e-4ac8-f0e3-9115522f8893"
   },
   "outputs": [
    {
     "data": {
      "image/png": "[encoded data removed]",
      "text/plain": [
       "<Figure size 432x288 with 2 Axes>"
      ]
     },
     "metadata": {
      "needs_background": "light"
     },
     "output_type": "display_data"
    }
   ],
   "source": [
    "cm = confusion_matrix(y_test, best_Logreg.predict(X_test),\n",
    "                      labels=['neutral', 'positive', 'negative'])\n",
    "plot_confusion_matrix(cm, ['neutral', 'positive', 'negative'])"
   ]
  },
  {
   "cell_type": "markdown",
   "metadata": {
    "id": "ie6RgLmOsuIH"
   },
   "source": [
    "### **SVM**"
   ]
  },
  {
   "cell_type": "code",
   "execution_count": null,
   "metadata": {
    "id": "waA19a3dstXV"
   },
   "outputs": [],
   "source": [
    "from sklearn.svm import SVC\n",
    "\n",
    "params = {\n",
    "    \"kernel\": [\"linear\", \"poly\", \"rbf\", \"sigmoid\"],\n",
    "    \"gamma\": [\"auto\", \"scale\"],\n",
    "    \"C\": [1,10,20]\n",
    "}\n",
    "\n",
    "svm = SVC()\n",
    "svm_clf = GridSearchCV(svm, params, cv=3, scoring='f1_macro', n_jobs=-1)\n",
    "svm_clf.fit(X_train, y_train)\n",
    "\n",
    "best_svm = svm_clf.best_estimator_"
   ]
  },
  {
   "cell_type": "code",
   "execution_count": null,
   "metadata": {
    "colab": {
     "base_uri": "https://localhost:8080/"
    },
    "id": "b_uLn89UtVwE",
    "outputId": "7a7e5bd4-29ff-4336-ecb4-7937fad302c3"
   },
   "outputs": [
    {
     "name": "stdout",
     "output_type": "stream",
     "text": [
      "SVC(C=1, break_ties=False, cache_size=200, class_weight=None, coef0=0.0,\n",
      "    decision_function_shape='ovr', degree=3, gamma='auto', kernel='linear',\n",
      "    max_iter=-1, probability=False, random_state=None, shrinking=True,\n",
      "    tol=0.001, verbose=False)\n"
     ]
    }
   ],
   "source": [
    "print(best_svm)"
   ]
  },
  {
   "cell_type": "code",
   "execution_count": null,
   "metadata": {
    "colab": {
     "base_uri": "https://localhost:8080/"
    },
    "id": "uQ_oX7PbrPr8",
    "outputId": "1596ff8b-e8f9-4cf3-c473-2285e99658db"
   },
   "outputs": [
    {
     "name": "stdout",
     "output_type": "stream",
     "text": [
      "              precision    recall  f1-score   support\n",
      "\n",
      "    negative       0.60      0.64      0.62       120\n",
      "     neutral       0.81      0.82      0.81       575\n",
      "    positive       0.65      0.61      0.63       273\n",
      "\n",
      "    accuracy                           0.74       968\n",
      "   macro avg       0.68      0.69      0.69       968\n",
      "weighted avg       0.74      0.74      0.74       968\n",
      "\n"
     ]
    }
   ],
   "source": [
    "text = \"SVM - Reporte de clasificación del conjunto de testeo\"\n",
    "print(len(text)*\"=\")\n",
    "print(text)\n",
    "print(len(text)*\"=\")\n",
    "print(classification_report(y_test, best_svm.predict(X_test)))"
   ]
  },
  {
   "cell_type": "code",
   "execution_count": null,
   "metadata": {
    "colab": {
     "base_uri": "https://localhost:8080/",
     "height": 319
    },
    "id": "pXjbT12juj8R",
    "outputId": "8d25c9c8-0444-4fe7-ad9b-db75d8f09e09"
   },
   "outputs": [
    {
     "data": {
      "image/png": "[encoded data removed]",
      "text/plain": [
       "<Figure size 432x288 with 2 Axes>"
      ]
     },
     "metadata": {
      "needs_background": "light"
     },
     "output_type": "display_data"
    }
   ],
   "source": [
    "cm = confusion_matrix(y_test, best_svm.predict(X_test),\n",
    "                      labels=['neutral', 'positive', 'negative'])\n",
    "plot_confusion_matrix(cm, ['neutral', 'positive', 'negative'])"
   ]
  },
  {
   "cell_type": "markdown",
   "metadata": {
    "id": "xZBY-XgWcZ_n"
   },
   "source": [
    "### **SGDClassifier**"
   ]
  },
  {
   "cell_type": "code",
   "execution_count": null,
   "metadata": {
    "id": "SVx6FfwKzA5w"
   },
   "outputs": [],
   "source": [
    "from sklearn.linear_model import SGDClassifier\n",
    "\n",
    "params = {\n",
    "    'loss': ['perceptron','hinge','log','squared_loss','epsilon_insensitive'],\n",
    "    'penalty' : ['l2', 'l1', 'none'],\n",
    "    'alpha' : [0.0001, 0.001, 0.01, 0.1],\n",
    "    'random_state': [42],\n",
    "    'learning_rate': ['optimal','constant','invscaling'],\n",
    "    'eta0': [0.0001, 0.001, 0.01, 0.1]\n",
    "}\n",
    "\n",
    "sgdlinear = SGDClassifier()\n",
    "sgdlinear_clf = GridSearchCV(sgdlinear, params, cv=5, scoring='f1_macro', n_jobs=-1)\n",
    "sgdlinear_clf.fit(X_train, y_train)\n",
    "\n",
    "best_sgdlinear = sgdlinear_clf.best_estimator_"
   ]
  },
  {
   "cell_type": "code",
   "execution_count": null,
   "metadata": {
    "id": "CtO8raey3Try"
   },
   "outputs": [],
   "source": [
    "# sgdlinear_clf = RandomizedSearchCV(sgdlinear, params, n_iter=36, cv=10, random_state=0, n_jobs=-1)\n",
    "# sgdlinear_clf.fit(X_train, y_train)\n",
    "\n",
    "# best_sgdlinear = sgdlinear_clf.best_estimator_"
   ]
  },
  {
   "cell_type": "code",
   "execution_count": null,
   "metadata": {
    "colab": {
     "base_uri": "https://localhost:8080/"
    },
    "id": "72SPu_R1zOta",
    "outputId": "7d427ed8-0599-4aeb-b7f4-4f5c0af7f1a8"
   },
   "outputs": [
    {
     "name": "stdout",
     "output_type": "stream",
     "text": [
      "SGDClassifier(alpha=0.001, average=False, class_weight=None,\n",
      "              early_stopping=False, epsilon=0.1, eta0=0.01, fit_intercept=True,\n",
      "              l1_ratio=0.15, learning_rate='constant', loss='hinge',\n",
      "              max_iter=1000, n_iter_no_change=5, n_jobs=None, penalty='l2',\n",
      "              power_t=0.5, random_state=42, shuffle=True, tol=0.001,\n",
      "              validation_fraction=0.1, verbose=0, warm_start=False)\n"
     ]
    }
   ],
   "source": [
    "print(best_sgdlinear)"
   ]
  },
  {
   "cell_type": "code",
   "execution_count": null,
   "metadata": {
    "colab": {
     "base_uri": "https://localhost:8080/"
    },
    "id": "obhGbZAazRQR",
    "outputId": "50300660-db48-45aa-ae85-07af494a8d41"
   },
   "outputs": [
    {
     "name": "stdout",
     "output_type": "stream",
     "text": [
      "              precision    recall  f1-score   support\n",
      "\n",
      "    negative       0.62      0.60      0.61       120\n",
      "     neutral       0.81      0.83      0.82       575\n",
      "    positive       0.67      0.63      0.65       273\n",
      "\n",
      "    accuracy                           0.75       968\n",
      "   macro avg       0.70      0.69      0.69       968\n",
      "weighted avg       0.74      0.75      0.75       968\n",
      "\n"
     ]
    }
   ],
   "source": [
    "print(classification_report(y_test, best_sgdlinear.predict(X_test)))"
   ]
  },
  {
   "cell_type": "code",
   "execution_count": null,
   "metadata": {
    "colab": {
     "base_uri": "https://localhost:8080/",
     "height": 319
    },
    "id": "BCVoOuwyL9Zf",
    "outputId": "a7879558-448e-4e13-c158-65c2de7aff2c"
   },
   "outputs": [
    {
     "data": {
      "image/png": "[encoded data removed]",
      "text/plain": [
       "<Figure size 432x288 with 2 Axes>"
      ]
     },
     "metadata": {
      "needs_background": "light"
     },
     "output_type": "display_data"
    }
   ],
   "source": [
    "cm = confusion_matrix(y_test, best_sgdlinear.predict(X_test),\n",
    "                      labels=['neutral', 'positive', 'negative'])\n",
    "plot_confusion_matrix(cm, ['neutral', 'positive', 'negative'])"
   ]
  },
  {
   "cell_type": "markdown",
   "metadata": {
    "id": "xmK-qkeClBDN"
   },
   "source": [
    "### **Random Forest**"
   ]
  },
  {
   "cell_type": "code",
   "execution_count": null,
   "metadata": {
    "id": "Vppi2ggElK3P"
   },
   "outputs": [],
   "source": [
    "from sklearn.ensemble import RandomForestClassifier\n",
    "\n",
    "# Selección de parámetros\n",
    "params = {\n",
    "    'criterion': ['gini', 'entropy'],\n",
    "    'min_samples_split': [1, 2, 5],\n",
    "    'min_samples_leaf': [1, 2, 5],\n",
    "    'max_depth': [200, 300, 400],\n",
    "    # 'max_depth': [3, 6, 10],\n",
    "    'max_features': ['auto', 'sqrt', 'log2']\n",
    "}\n",
    "\n",
    "rforest = RandomForestClassifier()\n",
    "rforest_clf = GridSearchCV(rforest, params, cv=3, scoring='f1_macro', n_jobs=-1)\n",
    "rforest_clf.fit(X_train, y_train)\n",
    "\n",
    "best_rforest = rforest_clf.best_estimator_"
   ]
  },
  {
   "cell_type": "code",
   "execution_count": null,
   "metadata": {
    "id": "PGflKOcTlJYT"
   },
   "outputs": [],
   "source": [
    "# rforest_clf = RandomizedSearchCV(rforest, params, n_iter=36, cv=10, random_state=0)\n",
    "# rforest_clf.fit(X_train, y_train)\n",
    "\n",
    "# best_rforest = rforest_clf.best_estimator_"
   ]
  },
  {
   "cell_type": "code",
   "execution_count": null,
   "metadata": {
    "colab": {
     "base_uri": "https://localhost:8080/"
    },
    "id": "cUOnavE9yBDI",
    "outputId": "0081d157-ddcc-4c42-b9fe-09c5e265ba3f"
   },
   "outputs": [
    {
     "name": "stdout",
     "output_type": "stream",
     "text": [
      "RandomForestClassifier(bootstrap=True, ccp_alpha=0.0, class_weight=None,\n",
      "                       criterion='gini', max_depth=300, max_features='sqrt',\n",
      "                       max_leaf_nodes=None, max_samples=None,\n",
      "                       min_impurity_decrease=0.0, min_impurity_split=None,\n",
      "                       min_samples_leaf=1, min_samples_split=5,\n",
      "                       min_weight_fraction_leaf=0.0, n_estimators=100,\n",
      "                       n_jobs=None, oob_score=False, random_state=None,\n",
      "                       verbose=0, warm_start=False)\n"
     ]
    }
   ],
   "source": [
    "print(best_rforest)"
   ]
  },
  {
   "cell_type": "code",
   "execution_count": null,
   "metadata": {
    "colab": {
     "base_uri": "https://localhost:8080/"
    },
    "id": "8zzeVSfR-mWy",
    "outputId": "9a9836df-5f57-42ce-b904-2dfe5ffcebaa"
   },
   "outputs": [
    {
     "name": "stdout",
     "output_type": "stream",
     "text": [
      "              precision    recall  f1-score   support\n",
      "\n",
      "    negative       0.80      0.46      0.58       120\n",
      "     neutral       0.77      0.92      0.84       575\n",
      "    positive       0.70      0.55      0.62       273\n",
      "\n",
      "    accuracy                           0.76       968\n",
      "   macro avg       0.76      0.64      0.68       968\n",
      "weighted avg       0.76      0.76      0.75       968\n",
      "\n"
     ]
    }
   ],
   "source": [
    "print(classification_report(y_test, best_rforest.predict(X_test)))"
   ]
  },
  {
   "cell_type": "code",
   "execution_count": null,
   "metadata": {
    "colab": {
     "base_uri": "https://localhost:8080/",
     "height": 319
    },
    "id": "_1x36i91KoAJ",
    "outputId": "4c5a1211-e48f-43d2-c09c-03a468109b4b"
   },
   "outputs": [
    {
     "data": {
      "image/png": "[encoded data removed]",
      "text/plain": [
       "<Figure size 432x288 with 2 Axes>"
      ]
     },
     "metadata": {
      "needs_background": "light"
     },
     "output_type": "display_data"
    }
   ],
   "source": [
    "cm = confusion_matrix(y_test, best_rforest.predict(X_test),\n",
    "                      labels=['neutral', 'positive', 'negative'])\n",
    "plot_confusion_matrix(cm, ['neutral', 'positive', 'negative'])"
   ]
  },
  {
   "cell_type": "markdown",
   "metadata": {
    "id": "7Ob2Q5bvk312"
   },
   "source": [
    "### **MultinomialNB**"
   ]
  },
  {
   "cell_type": "code",
   "execution_count": null,
   "metadata": {
    "colab": {
     "base_uri": "https://localhost:8080/"
    },
    "id": "or0vPOIHDYPp",
    "outputId": "1ef0a016-ed21-4474-d7a1-f0595ef26003"
   },
   "outputs": [
    {
     "data": {
      "text/plain": [
       "MultinomialNB(alpha=1.0, class_prior=None, fit_prior=True)"
      ]
     },
     "execution_count": 173,
     "metadata": {},
     "output_type": "execute_result"
    }
   ],
   "source": [
    "from sklearn.naive_bayes import MultinomialNB\n",
    "\n",
    "multinomNB = MultinomialNB().fit(X_train, y_train)\n",
    "multinomNB"
   ]
  },
  {
   "cell_type": "code",
   "execution_count": null,
   "metadata": {
    "colab": {
     "base_uri": "https://localhost:8080/"
    },
    "id": "3F044YkzWDHS",
    "outputId": "1a574bb6-7f1b-42fb-9cc8-ce22a1eed294"
   },
   "outputs": [
    {
     "data": {
      "text/plain": [
       "array(['negative', 'neutral', 'positive'], dtype='<U8')"
      ]
     },
     "execution_count": 174,
     "metadata": {},
     "output_type": "execute_result"
    }
   ],
   "source": [
    "multinomNB.classes_"
   ]
  },
  {
   "cell_type": "code",
   "execution_count": null,
   "metadata": {
    "colab": {
     "base_uri": "https://localhost:8080/"
    },
    "id": "q-YWN8NhWZ_A",
    "outputId": "19998a1f-8dcc-43a2-b6b4-5cea665f9c39"
   },
   "outputs": [
    {
     "data": {
      "text/plain": [
       "array([ 484., 2297., 1089.])"
      ]
     },
     "execution_count": 175,
     "metadata": {},
     "output_type": "execute_result"
    }
   ],
   "source": [
    "multinomNB.class_count_"
   ]
  },
  {
   "cell_type": "code",
   "execution_count": null,
   "metadata": {
    "colab": {
     "base_uri": "https://localhost:8080/"
    },
    "id": "dnrvndIQWlSx",
    "outputId": "cf7af29b-979b-4b95-8bd0-67bd31963274"
   },
   "outputs": [
    {
     "data": {
      "text/plain": [
       "array([0.1250646 , 0.59354005, 0.28139535])"
      ]
     },
     "execution_count": 176,
     "metadata": {},
     "output_type": "execute_result"
    }
   ],
   "source": [
    "np.exp(multinomNB.class_log_prior_)"
   ]
  },
  {
   "cell_type": "code",
   "execution_count": null,
   "metadata": {
    "colab": {
     "base_uri": "https://localhost:8080/"
    },
    "id": "wlaTSVvPBdJX",
    "outputId": "bb797885-6911-47a9-ad62-badc9fbbfe31"
   },
   "outputs": [
    {
     "name": "stdout",
     "output_type": "stream",
     "text": [
      "              precision    recall  f1-score   support\n",
      "\n",
      "    negative       0.56      0.55      0.56       120\n",
      "     neutral       0.78      0.80      0.79       575\n",
      "    positive       0.61      0.57      0.59       273\n",
      "\n",
      "    accuracy                           0.71       968\n",
      "   macro avg       0.65      0.64      0.65       968\n",
      "weighted avg       0.70      0.71      0.70       968\n",
      "\n"
     ]
    }
   ],
   "source": [
    "print(classification_report(y_test, multinomNB.predict(X_test)))"
   ]
  },
  {
   "cell_type": "markdown",
   "metadata": {
    "id": "eMYUVvMBg3nw"
   },
   "source": [
    "#### GridSearchCV"
   ]
  },
  {
   "cell_type": "code",
   "execution_count": null,
   "metadata": {
    "id": "QvtTYnF0X1QZ"
   },
   "outputs": [],
   "source": [
    "param_grid = {\n",
    "    'alpha': [1.0, 0.5, 0.1, 0.01, 0.001, 0.0001],\n",
    "    'fit_prior': [1, 0],\n",
    "    'class_prior': [None, [0.33, 0.34, 0.33], [0.12790698, 0.58914729, 0.28294574]]\n",
    "}\n",
    "\n",
    "multinomNB = MultinomialNB()\n",
    "multinomNB_clf = GridSearchCV(multinomNB, param_grid, scoring='f1_macro', cv=10)\n",
    "multinomNB_clf.fit(X_train, y_train);"
   ]
  },
  {
   "cell_type": "code",
   "execution_count": null,
   "metadata": {
    "colab": {
     "base_uri": "https://localhost:8080/"
    },
    "id": "fbur1zR1bfMP",
    "outputId": "d5c7292a-ac53-4f3f-bffd-b2010b58f780"
   },
   "outputs": [
    {
     "data": {
      "text/plain": [
       "MultinomialNB(alpha=0.5, class_prior=None, fit_prior=1)"
      ]
     },
     "execution_count": 179,
     "metadata": {},
     "output_type": "execute_result"
    }
   ],
   "source": [
    "best_multinomNB = multinomNB_clf.best_estimator_\n",
    "best_multinomNB"
   ]
  },
  {
   "cell_type": "code",
   "execution_count": null,
   "metadata": {
    "colab": {
     "base_uri": "https://localhost:8080/"
    },
    "id": "rL-chM6WbiM4",
    "outputId": "3dd0db2b-7f8b-4a79-bb8b-a6bb95f4a13b"
   },
   "outputs": [
    {
     "name": "stdout",
     "output_type": "stream",
     "text": [
      "              precision    recall  f1-score   support\n",
      "\n",
      "    negative       0.49      0.65      0.56       120\n",
      "     neutral       0.79      0.77      0.78       575\n",
      "    positive       0.59      0.55      0.57       273\n",
      "\n",
      "    accuracy                           0.69       968\n",
      "   macro avg       0.63      0.66      0.64       968\n",
      "weighted avg       0.70      0.69      0.69       968\n",
      "\n"
     ]
    }
   ],
   "source": [
    "print(classification_report(y_test, best_multinomNB.predict(X_test)))"
   ]
  },
  {
   "cell_type": "markdown",
   "metadata": {
    "id": "Xuu_9jiwkmrN"
   },
   "source": [
    "#### RandomizedSearchCV"
   ]
  },
  {
   "cell_type": "code",
   "execution_count": null,
   "metadata": {
    "id": "qO7pJv_7eNXr"
   },
   "outputs": [],
   "source": [
    "from sklearn.model_selection import RandomizedSearchCV\n",
    "\n",
    "param_grid = {\n",
    "    'alpha': [1.0, 0.5, 0.1, 0.01, 0.001, 0.0001],\n",
    "    'fit_prior': [1, 0],\n",
    "    'class_prior': [None, [0.33, 0.34, 0.33], [0.12790698, 0.58914729, 0.28294574]]\n",
    "}\n",
    "\n",
    "multinomNB = MultinomialNB()\n",
    "multinomNB_clf = RandomizedSearchCV(multinomNB, param_grid, n_iter=36, cv=10, random_state=0)\n",
    "multinomNB_clf.fit(X_train, y_train);"
   ]
  },
  {
   "cell_type": "code",
   "execution_count": null,
   "metadata": {
    "colab": {
     "base_uri": "https://localhost:8080/"
    },
    "id": "yeRxb53TesjE",
    "outputId": "bd8f251a-58a4-4810-d3fb-c6bb4327ba6e"
   },
   "outputs": [
    {
     "data": {
      "text/plain": [
       "MultinomialNB(alpha=1.0, class_prior=None, fit_prior=1)"
      ]
     },
     "execution_count": 182,
     "metadata": {},
     "output_type": "execute_result"
    }
   ],
   "source": [
    "best_multinomNB = multinomNB_clf.best_estimator_\n",
    "best_multinomNB"
   ]
  },
  {
   "cell_type": "code",
   "execution_count": null,
   "metadata": {
    "colab": {
     "base_uri": "https://localhost:8080/"
    },
    "id": "A1E4UMHSfD_D",
    "outputId": "174407e6-785c-4fde-e476-ebadeb1d1ff5"
   },
   "outputs": [
    {
     "name": "stdout",
     "output_type": "stream",
     "text": [
      "              precision    recall  f1-score   support\n",
      "\n",
      "    negative       0.56      0.55      0.56       120\n",
      "     neutral       0.78      0.80      0.79       575\n",
      "    positive       0.61      0.57      0.59       273\n",
      "\n",
      "    accuracy                           0.71       968\n",
      "   macro avg       0.65      0.64      0.65       968\n",
      "weighted avg       0.70      0.71      0.70       968\n",
      "\n"
     ]
    }
   ],
   "source": [
    "print(classification_report(y_test, best_multinomNB.predict(X_test)))"
   ]
  },
  {
   "cell_type": "markdown",
   "metadata": {
    "id": "xuF_xwR4cEM_"
   },
   "source": [
    "### **DecisionTreeClassifier**"
   ]
  },
  {
   "cell_type": "code",
   "execution_count": null,
   "metadata": {
    "id": "EkLWVbp3rUdX"
   },
   "outputs": [],
   "source": [
    "from sklearn.tree import DecisionTreeClassifier\n",
    "\n",
    "search_params = {\n",
    "    'criterion': ['gini', 'entropy'],\n",
    "    'min_samples_leaf': [1, 2, 5],\n",
    "    'max_depth': [3, 6, 10]\n",
    "}\n",
    "tree = DecisionTreeClassifier(random_state=42)\n",
    "tree_clf = GridSearchCV(tree, search_params, cv=3, scoring='f1_macro', n_jobs=-1)\n",
    "tree_clf.fit(X_train, y_train)\n",
    "\n",
    "best_tree = tree_clf.best_estimator_"
   ]
  },
  {
   "cell_type": "code",
   "execution_count": null,
   "metadata": {
    "colab": {
     "base_uri": "https://localhost:8080/"
    },
    "id": "zZCv3opMr-QN",
    "outputId": "6e1671a5-c3e3-4378-aeb5-eca3da41c3c4"
   },
   "outputs": [
    {
     "name": "stdout",
     "output_type": "stream",
     "text": [
      "DecisionTreeClassifier(ccp_alpha=0.0, class_weight=None, criterion='gini',\n",
      "                       max_depth=10, max_features=None, max_leaf_nodes=None,\n",
      "                       min_impurity_decrease=0.0, min_impurity_split=None,\n",
      "                       min_samples_leaf=5, min_samples_split=2,\n",
      "                       min_weight_fraction_leaf=0.0, presort='deprecated',\n",
      "                       random_state=42, splitter='best')\n"
     ]
    }
   ],
   "source": [
    "print(best_tree)"
   ]
  },
  {
   "cell_type": "code",
   "execution_count": null,
   "metadata": {
    "colab": {
     "base_uri": "https://localhost:8080/"
    },
    "id": "0wJdSQ2PsIMY",
    "outputId": "6f2ae2b8-df32-4a8f-d063-b3a3e34ff6d4"
   },
   "outputs": [
    {
     "name": "stdout",
     "output_type": "stream",
     "text": [
      "              precision    recall  f1-score   support\n",
      "\n",
      "    negative       0.69      0.28      0.40       120\n",
      "     neutral       0.70      0.94      0.81       575\n",
      "    positive       0.72      0.39      0.51       273\n",
      "\n",
      "    accuracy                           0.71       968\n",
      "   macro avg       0.71      0.54      0.57       968\n",
      "weighted avg       0.71      0.71      0.67       968\n",
      "\n"
     ]
    }
   ],
   "source": [
    "print(classification_report(y_test, best_tree.predict(X_test)))"
   ]
  },
  {
   "cell_type": "markdown",
   "metadata": {
    "id": "VkoYwboNcKaa"
   },
   "source": [
    "### **KNeighborsClassifier**"
   ]
  },
  {
   "cell_type": "code",
   "execution_count": null,
   "metadata": {
    "id": "1zvf0-G1rN7h"
   },
   "outputs": [],
   "source": [
    "from sklearn.neighbors import KNeighborsClassifier\n",
    "\n",
    "params = {\n",
    "    \"n_neighbors\": [1,2,3,4,5,6,7,8,15,20],\n",
    "    \"weights\": [\"uniform\", \"distance\"],\n",
    "    \"algorithm\":[\"auto\", \"ball_tree\", \"kd_tree\", \"brute\"]\n",
    "}\n",
    "\n",
    "knn = KNeighborsClassifier()\n",
    "knn_clf= GridSearchCV(knn, params, cv=3, scoring='f1_macro', n_jobs=-1)\n",
    "knn_clf.fit(X_train, y_train)\n",
    "\n",
    "best_knn = knn_clf.best_estimator_"
   ]
  },
  {
   "cell_type": "code",
   "execution_count": null,
   "metadata": {
    "colab": {
     "base_uri": "https://localhost:8080/"
    },
    "id": "ex5-tXvBxHxF",
    "outputId": "b4c51cb2-d167-49d6-e5c0-76eca9e37ea6"
   },
   "outputs": [
    {
     "name": "stdout",
     "output_type": "stream",
     "text": [
      "KNeighborsClassifier(algorithm='auto', leaf_size=30, metric='minkowski',\n",
      "                     metric_params=None, n_jobs=None, n_neighbors=4, p=2,\n",
      "                     weights='distance')\n"
     ]
    }
   ],
   "source": [
    "print(best_knn)"
   ]
  },
  {
   "cell_type": "code",
   "execution_count": null,
   "metadata": {},
   "outputs": [],
   "source": [
    "print(classification_report(y_test, best_knn.predict(X_test)))"
   ]
  }
 ],
 "metadata": {
  "colab": {
   "collapsed_sections": [],
   "name": "Introduccion Aprendizaje Supervisado - news_feeling.ipynb",
   "provenance": []
  },
  "kernelspec": {
   "display_name": "Python 3",
   "language": "python",
   "name": "python3"
  },
  "language_info": {
   "codemirror_mode": {
    "name": "ipython",
    "version": 3
   },
   "file_extension": ".py",
   "mimetype": "text/x-python",
   "name": "python",
   "nbconvert_exporter": "python",
   "pygments_lexer": "ipython3",
   "version": "3.9.5"
  },
  "toc": {
   "base_numbering": 1,
   "nav_menu": {},
   "number_sections": false,
   "sideBar": true,
   "skip_h1_title": false,
   "title_cell": "Table of Contents",
   "title_sidebar": "Contents",
   "toc_cell": false,
   "toc_position": {},
   "toc_section_display": true,
   "toc_window_display": false
  }
 },
 "nbformat": 4,
 "nbformat_minor": 1
}

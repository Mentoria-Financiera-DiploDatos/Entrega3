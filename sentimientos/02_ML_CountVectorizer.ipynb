{
  "nbformat": 4,
  "nbformat_minor": 0,
  "metadata": {
    "colab": {
      "name": "02_ML_CountVectorizer.ipynb",
      "provenance": [],
      "collapsed_sections": []
    },
    "kernelspec": {
      "display_name": "Python 3",
      "language": "python",
      "name": "python3"
    },
    "language_info": {
      "codemirror_mode": {
        "name": "ipython",
        "version": 3
      },
      "file_extension": ".py",
      "mimetype": "text/x-python",
      "name": "python",
      "nbconvert_exporter": "python",
      "pygments_lexer": "ipython3",
      "version": "3.9.5"
    },
    "toc": {
      "base_numbering": 1,
      "nav_menu": {},
      "number_sections": false,
      "sideBar": true,
      "skip_h1_title": false,
      "title_cell": "Table of Contents",
      "title_sidebar": "Contents",
      "toc_cell": false,
      "toc_position": {},
      "toc_section_display": true,
      "toc_window_display": false
    }
  },
  "cells": [
    {
      "cell_type": "markdown",
      "metadata": {
        "id": "kgMEw-qD4X0-"
      },
      "source": [
        "# Trabajo de Mentoria - DiploDatos\n",
        "\n",
        "**Grupo A**\n",
        "    \n",
        "Integrantes: \n",
        "    <li> Bruno Garcia\n",
        "    <li> Nicolas Chiapello\n",
        "    <li> Martin Peñas\n",
        "    <li> Pame Pairo"
      ]
    },
    {
      "cell_type": "markdown",
      "metadata": {
        "id": "V7CJdzArBBw4"
      },
      "source": [
        "## Vectorización: CountVectorizer\n",
        "\n",
        "En esta notebook usaremos CountVectorizer, el cual describe la ocurrencia de palabras dentro de los textos que conforman un corpus. Da un resultado de 1 o más si la palabra está presente una o más veces en el texto y 0 si no está presente. Por lo tanto, a partir de las palabras del corpus, crea una vector / bolsa de palabras para cada texto que indica la frecuencia de estas en dicho documento, esto para cada texto que conforma el corpus."
      ]
    },
    {
      "cell_type": "code",
      "metadata": {
        "id": "6hx5teSDxuk-",
        "colab": {
          "base_uri": "https://localhost:8080/",
          "height": 142
        },
        "outputId": "1235ac76-e83c-4214-ec53-62dd034af8d1"
      },
      "source": [
        "import pandas as pd \n",
        "\n",
        "df_news= pd.read_csv(\"https://raw.githubusercontent.com/Mentoria-Financiera-DiploDatos/Entrega3/master/sentimientos/data/feeling_procesado.csv\")\n",
        "df_news.head(3)"
      ],
      "execution_count": 29,
      "outputs": [
        {
          "output_type": "execute_result",
          "data": {
            "text/html": [
              "<div>\n",
              "<style scoped>\n",
              "    .dataframe tbody tr th:only-of-type {\n",
              "        vertical-align: middle;\n",
              "    }\n",
              "\n",
              "    .dataframe tbody tr th {\n",
              "        vertical-align: top;\n",
              "    }\n",
              "\n",
              "    .dataframe thead th {\n",
              "        text-align: right;\n",
              "    }\n",
              "</style>\n",
              "<table border=\"1\" class=\"dataframe\">\n",
              "  <thead>\n",
              "    <tr style=\"text-align: right;\">\n",
              "      <th></th>\n",
              "      <th>Unnamed: 0</th>\n",
              "      <th>feeling</th>\n",
              "      <th>news</th>\n",
              "      <th>news_tokens</th>\n",
              "      <th>news_tokens_tagged</th>\n",
              "    </tr>\n",
              "  </thead>\n",
              "  <tbody>\n",
              "    <tr>\n",
              "      <th>0</th>\n",
              "      <td>0</td>\n",
              "      <td>neutral</td>\n",
              "      <td>According to Gran , the company has no plans t...</td>\n",
              "      <td>['accord', 'gran', 'company', 'plan', 'move', ...</td>\n",
              "      <td>[('accord', 'NN'), ('gran', 'VBD'), ('company'...</td>\n",
              "    </tr>\n",
              "    <tr>\n",
              "      <th>1</th>\n",
              "      <td>1</td>\n",
              "      <td>neutral</td>\n",
              "      <td>Technopolis plans to develop in stages an area...</td>\n",
              "      <td>['technopolis', 'plan', 'develop', 'stage', 'a...</td>\n",
              "      <td>[('technopolis', 'NN'), ('plan', 'NN'), ('deve...</td>\n",
              "    </tr>\n",
              "    <tr>\n",
              "      <th>2</th>\n",
              "      <td>2</td>\n",
              "      <td>negative</td>\n",
              "      <td>The international electronic industry company ...</td>\n",
              "      <td>['international', 'electronic', 'industry', 'c...</td>\n",
              "      <td>[('international', 'JJ'), ('electronic', 'JJ')...</td>\n",
              "    </tr>\n",
              "  </tbody>\n",
              "</table>\n",
              "</div>"
            ],
            "text/plain": [
              "   Unnamed: 0  ...                                 news_tokens_tagged\n",
              "0           0  ...  [('accord', 'NN'), ('gran', 'VBD'), ('company'...\n",
              "1           1  ...  [('technopolis', 'NN'), ('plan', 'NN'), ('deve...\n",
              "2           2  ...  [('international', 'JJ'), ('electronic', 'JJ')...\n",
              "\n",
              "[3 rows x 5 columns]"
            ]
          },
          "metadata": {},
          "execution_count": 29
        }
      ]
    },
    {
      "cell_type": "markdown",
      "metadata": {
        "id": "0_lAfiswOPh5"
      },
      "source": [
        "## *Aprendizaje Automático*"
      ]
    },
    {
      "cell_type": "markdown",
      "metadata": {
        "id": "Z65MsRAwBHku"
      },
      "source": [
        "#### Train/Test Split"
      ]
    },
    {
      "cell_type": "code",
      "metadata": {
        "id": "yeug9HeQA8Pa"
      },
      "source": [
        "from sklearn.model_selection import train_test_split\n",
        "from sklearn.feature_extraction.text import CountVectorizer\n",
        "\n",
        "X_train, X_test, y_train, y_test = train_test_split(df_news.news_tokens, df_news.feeling, test_size=0.2, random_state=42)"
      ],
      "execution_count": 30,
      "outputs": []
    },
    {
      "cell_type": "code",
      "metadata": {
        "id": "MdErXrsaxulD"
      },
      "source": [
        "#Realizamos el CV con los textos preprocesados para train y test por separado.\n",
        "cv = CountVectorizer(lowercase=False)\n",
        "X_train = cv.fit_transform(X_train)\n",
        "X_test = cv.transform(X_test)"
      ],
      "execution_count": 31,
      "outputs": []
    },
    {
      "cell_type": "code",
      "metadata": {
        "colab": {
          "base_uri": "https://localhost:8080/"
        },
        "id": "bBqUFE0ecp91",
        "outputId": "4dadbb85-7f87-4589-b425-09c7c25bb586"
      },
      "source": [
        "print(y_train[y_train == 'positive'].size/y_train.size)\n",
        "print(y_train[y_train == 'neutral'].size/y_train.size)\n",
        "print(y_train[y_train == 'negative'].size/y_train.size)\n",
        "y_train.size"
      ],
      "execution_count": 32,
      "outputs": [
        {
          "output_type": "stream",
          "name": "stdout",
          "text": [
            "0.2813953488372093\n",
            "0.5935400516795866\n",
            "0.12506459948320414\n"
          ]
        },
        {
          "output_type": "execute_result",
          "data": {
            "text/plain": [
              "3870"
            ]
          },
          "metadata": {},
          "execution_count": 32
        }
      ]
    },
    {
      "cell_type": "code",
      "metadata": {
        "colab": {
          "base_uri": "https://localhost:8080/"
        },
        "id": "gSunq_TffmSr",
        "outputId": "5c108dab-6c0e-4756-9636-31c3bd815d5f"
      },
      "source": [
        "print(y_test[y_test == 'positive'].size/y_test.size)\n",
        "print(y_test[y_test == 'neutral'].size/y_test.size)\n",
        "print(y_test[y_test == 'negative'].size/y_test.size)\n",
        "y_test.size"
      ],
      "execution_count": 33,
      "outputs": [
        {
          "output_type": "stream",
          "name": "stdout",
          "text": [
            "0.28202479338842973\n",
            "0.59400826446281\n",
            "0.12396694214876033\n"
          ]
        },
        {
          "output_type": "execute_result",
          "data": {
            "text/plain": [
              "968"
            ]
          },
          "metadata": {},
          "execution_count": 33
        }
      ]
    },
    {
      "cell_type": "code",
      "metadata": {
        "id": "8VQ9VPIoc93O"
      },
      "source": [
        "from sklearn.metrics import classification_report\n",
        "from sklearn.model_selection import GridSearchCV\n",
        "from sklearn.model_selection import RandomizedSearchCV\n",
        "from sklearn.metrics import confusion_matrix"
      ],
      "execution_count": 34,
      "outputs": []
    },
    {
      "cell_type": "code",
      "metadata": {
        "id": "SGJaNKTkhRIL"
      },
      "source": [
        "import itertools\n",
        "import numpy as np\n",
        "import matplotlib.pyplot as plt\n",
        "\n",
        "def plot_confusion_matrix(cm, classes,\n",
        "                          normalize=False,\n",
        "                          title='Confusion matrix',\n",
        "                          cmap=plt.cm.Blues):\n",
        "    \"\"\"\n",
        "    This function prints and plots the confusion matrix.\n",
        "    Normalization can be applied by setting `normalize=True`.\n",
        "    \"\"\"\n",
        "    if normalize:\n",
        "        cm = cm.astype('float') / cm.sum(axis=1)[:, np.newaxis]\n",
        "\n",
        "    plt.imshow(cm, interpolation='nearest', cmap=cmap)\n",
        "    plt.title(title)\n",
        "    plt.colorbar()\n",
        "    tick_marks = np.arange(len(classes))\n",
        "    plt.xticks(tick_marks, classes, rotation=45)\n",
        "    plt.yticks(tick_marks, classes)\n",
        "\n",
        "    fmt = '.2f' if normalize else 'd'\n",
        "    thresh = cm.max() / 2.\n",
        "    for i, j in itertools.product(range(cm.shape[0]), range(cm.shape[1])):\n",
        "        plt.text(j, i, format(cm[i, j], fmt),\n",
        "                 horizontalalignment=\"center\",\n",
        "                 color=\"white\" if cm[i, j] > thresh else \"black\")\n",
        "\n",
        "    plt.tight_layout()\n",
        "    plt.ylabel('Etiqueta correcta')\n",
        "    plt.xlabel('Etiqueta predicha')"
      ],
      "execution_count": 35,
      "outputs": []
    },
    {
      "cell_type": "markdown",
      "metadata": {
        "id": "7Ob2Q5bvk312"
      },
      "source": [
        "### **MultinomialNB**"
      ]
    },
    {
      "cell_type": "markdown",
      "metadata": {
        "id": "mCruVQpMSLhj"
      },
      "source": [
        "Este es el primer algoritmo de clasificación que probamos, por eso estan desarrollado todos los pasos por sepadado y de forma más detallada, pero al obtener un modelo que no da muy buenos resultados seguimos probando otros algoritmos."
      ]
    },
    {
      "cell_type": "code",
      "metadata": {
        "colab": {
          "base_uri": "https://localhost:8080/"
        },
        "id": "or0vPOIHDYPp",
        "outputId": "631d4200-3769-4a32-be78-19b89ff6b49a"
      },
      "source": [
        "from sklearn.naive_bayes import MultinomialNB\n",
        "\n",
        "multinomNB = MultinomialNB().fit(X_train, y_train)\n",
        "multinomNB"
      ],
      "execution_count": 54,
      "outputs": [
        {
          "output_type": "execute_result",
          "data": {
            "text/plain": [
              "MultinomialNB(alpha=1.0, class_prior=None, fit_prior=True)"
            ]
          },
          "metadata": {},
          "execution_count": 54
        }
      ]
    },
    {
      "cell_type": "code",
      "metadata": {
        "colab": {
          "base_uri": "https://localhost:8080/"
        },
        "id": "3F044YkzWDHS",
        "outputId": "f1c03add-3167-40a9-8f9c-6e523ea6eece"
      },
      "source": [
        "multinomNB.classes_"
      ],
      "execution_count": 55,
      "outputs": [
        {
          "output_type": "execute_result",
          "data": {
            "text/plain": [
              "array(['negative', 'neutral', 'positive'], dtype='<U8')"
            ]
          },
          "metadata": {},
          "execution_count": 55
        }
      ]
    },
    {
      "cell_type": "code",
      "metadata": {
        "colab": {
          "base_uri": "https://localhost:8080/"
        },
        "id": "q-YWN8NhWZ_A",
        "outputId": "6e78bfa1-ea63-4b5e-ef7d-2e08d4eabf27"
      },
      "source": [
        "multinomNB.class_count_"
      ],
      "execution_count": 56,
      "outputs": [
        {
          "output_type": "execute_result",
          "data": {
            "text/plain": [
              "array([ 484., 2297., 1089.])"
            ]
          },
          "metadata": {},
          "execution_count": 56
        }
      ]
    },
    {
      "cell_type": "code",
      "metadata": {
        "colab": {
          "base_uri": "https://localhost:8080/"
        },
        "id": "dnrvndIQWlSx",
        "outputId": "ca3209ab-4db4-4bb2-c659-107cac9e3103"
      },
      "source": [
        "np.exp(multinomNB.class_log_prior_)"
      ],
      "execution_count": 57,
      "outputs": [
        {
          "output_type": "execute_result",
          "data": {
            "text/plain": [
              "array([0.1250646 , 0.59354005, 0.28139535])"
            ]
          },
          "metadata": {},
          "execution_count": 57
        }
      ]
    },
    {
      "cell_type": "code",
      "metadata": {
        "colab": {
          "base_uri": "https://localhost:8080/"
        },
        "id": "wlaTSVvPBdJX",
        "outputId": "e129187d-29fa-4da1-f90b-a12d339a898a"
      },
      "source": [
        "text = \"Naive Bayes - Reporte de clasificación del conjunto de testeo\"\n",
        "print(len(text)*\"=\")\n",
        "print(text)\n",
        "print(len(text)*\"=\")\n",
        "print(classification_report(y_test, multinomNB.predict(X_test)))"
      ],
      "execution_count": 58,
      "outputs": [
        {
          "output_type": "stream",
          "name": "stdout",
          "text": [
            "=============================================================\n",
            "Naive Bayes - Reporte de clasificación del conjunto de testeo\n",
            "=============================================================\n",
            "              precision    recall  f1-score   support\n",
            "\n",
            "    negative       0.63      0.57      0.60       120\n",
            "     neutral       0.77      0.83      0.80       575\n",
            "    positive       0.60      0.52      0.56       273\n",
            "\n",
            "    accuracy                           0.71       968\n",
            "   macro avg       0.67      0.64      0.65       968\n",
            "weighted avg       0.70      0.71      0.71       968\n",
            "\n"
          ]
        }
      ]
    },
    {
      "cell_type": "markdown",
      "metadata": {
        "id": "eMYUVvMBg3nw"
      },
      "source": [
        "#### GridSearchCV"
      ]
    },
    {
      "cell_type": "code",
      "metadata": {
        "id": "QvtTYnF0X1QZ"
      },
      "source": [
        "param_grid = {\n",
        "    # 'alpha': [1.0, 0.5, 0.1, 0.01, 0.001],\n",
        "    'fit_prior': [True, False],\n",
        "    'class_prior': [None, [0.33, 0.34, 0.33], [0.13, 0.59, 0.28]]\n",
        "}\n",
        "\n",
        "multinomNB = MultinomialNB()\n",
        "multinomNB_clf = GridSearchCV(multinomNB, param_grid, scoring='f1_macro', cv=3)\n",
        "multinomNB_clf.fit(X_train, y_train);"
      ],
      "execution_count": 59,
      "outputs": []
    },
    {
      "cell_type": "code",
      "metadata": {
        "colab": {
          "base_uri": "https://localhost:8080/"
        },
        "id": "fbur1zR1bfMP",
        "outputId": "3fcb901f-9375-4e4b-ba27-f1d8952953f7"
      },
      "source": [
        "best_multinomNB = multinomNB_clf.best_estimator_\n",
        "best_multinomNB"
      ],
      "execution_count": 60,
      "outputs": [
        {
          "output_type": "execute_result",
          "data": {
            "text/plain": [
              "MultinomialNB(alpha=1.0, class_prior=None, fit_prior=True)"
            ]
          },
          "metadata": {},
          "execution_count": 60
        }
      ]
    },
    {
      "cell_type": "code",
      "metadata": {
        "colab": {
          "base_uri": "https://localhost:8080/"
        },
        "id": "rL-chM6WbiM4",
        "outputId": "7bb57ab4-91dd-4eee-847d-d15d8fed59eb"
      },
      "source": [
        "print(classification_report(y_test, best_multinomNB.predict(X_test)))"
      ],
      "execution_count": 61,
      "outputs": [
        {
          "output_type": "stream",
          "name": "stdout",
          "text": [
            "              precision    recall  f1-score   support\n",
            "\n",
            "    negative       0.63      0.57      0.60       120\n",
            "     neutral       0.77      0.83      0.80       575\n",
            "    positive       0.60      0.52      0.56       273\n",
            "\n",
            "    accuracy                           0.71       968\n",
            "   macro avg       0.67      0.64      0.65       968\n",
            "weighted avg       0.70      0.71      0.71       968\n",
            "\n"
          ]
        }
      ]
    },
    {
      "cell_type": "markdown",
      "metadata": {
        "id": "Xuu_9jiwkmrN"
      },
      "source": [
        "#### RandomizedSearchCV"
      ]
    },
    {
      "cell_type": "code",
      "metadata": {
        "id": "qO7pJv_7eNXr",
        "colab": {
          "base_uri": "https://localhost:8080/"
        },
        "outputId": "480783bc-2e94-46b8-fa1f-308dc8d79de1"
      },
      "source": [
        "param_grid = {\n",
        "    'alpha': [1.0, 0.5, 0.1, 0.01, 0.001],\n",
        "    'fit_prior': [1, 0],\n",
        "    'class_prior': [None, [0.33, 0.34, 0.33], [0.13, 0.59, 0.28]]\n",
        "}\n",
        "\n",
        "multinomNB = MultinomialNB()\n",
        "multinomNB_clf = RandomizedSearchCV(multinomNB, param_grid, n_iter=36, cv=10, random_state=0)\n",
        "multinomNB_clf.fit(X_train, y_train);"
      ],
      "execution_count": 62,
      "outputs": [
        {
          "output_type": "stream",
          "name": "stderr",
          "text": [
            "/usr/local/lib/python3.7/dist-packages/sklearn/model_selection/_search.py:281: UserWarning: The total space of parameters 30 is smaller than n_iter=36. Running 30 iterations. For exhaustive searches, use GridSearchCV.\n",
            "  % (grid_size, self.n_iter, grid_size), UserWarning)\n"
          ]
        }
      ]
    },
    {
      "cell_type": "code",
      "metadata": {
        "colab": {
          "base_uri": "https://localhost:8080/"
        },
        "id": "yeRxb53TesjE",
        "outputId": "85575578-acd8-407e-a672-46a6d0806174"
      },
      "source": [
        "best_multinomNB = multinomNB_clf.best_estimator_\n",
        "best_multinomNB"
      ],
      "execution_count": 63,
      "outputs": [
        {
          "output_type": "execute_result",
          "data": {
            "text/plain": [
              "MultinomialNB(alpha=1.0, class_prior=None, fit_prior=1)"
            ]
          },
          "metadata": {},
          "execution_count": 63
        }
      ]
    },
    {
      "cell_type": "code",
      "metadata": {
        "colab": {
          "base_uri": "https://localhost:8080/"
        },
        "id": "A1E4UMHSfD_D",
        "outputId": "f1ba4237-8cb9-4655-fbed-1afdc1980293"
      },
      "source": [
        "print(classification_report(y_test, best_multinomNB.predict(X_test)))"
      ],
      "execution_count": 64,
      "outputs": [
        {
          "output_type": "stream",
          "name": "stdout",
          "text": [
            "              precision    recall  f1-score   support\n",
            "\n",
            "    negative       0.63      0.57      0.60       120\n",
            "     neutral       0.77      0.83      0.80       575\n",
            "    positive       0.60      0.52      0.56       273\n",
            "\n",
            "    accuracy                           0.71       968\n",
            "   macro avg       0.67      0.64      0.65       968\n",
            "weighted avg       0.70      0.71      0.71       968\n",
            "\n"
          ]
        }
      ]
    },
    {
      "cell_type": "markdown",
      "metadata": {
        "id": "9_ScxqcJpQmW"
      },
      "source": [
        "### **Logistic Regresion**"
      ]
    },
    {
      "cell_type": "code",
      "metadata": {
        "id": "kt7EpGvXpZmw"
      },
      "source": [
        "from sklearn.linear_model import LogisticRegression\n",
        "\n",
        "# Selección de parámetros\n",
        "params = {\n",
        "    'penalty':['l1', 'l2', 'elasticnet', 'none'],\n",
        "    'solver': ['newton-cg', 'lbfgs', 'liblinear', 'sag', 'saga']\n",
        "    # 'C': [1,10,20]\n",
        "}\n",
        "\n",
        "Logreg = LogisticRegression()\n",
        "Logreg_clf = GridSearchCV(Logreg, params, cv=3, scoring='f1_macro', n_jobs=-1)\n",
        "Logreg_clf.fit(X_train, y_train)\n",
        "best_Logreg = Logreg_clf.best_estimator_"
      ],
      "execution_count": 36,
      "outputs": []
    },
    {
      "cell_type": "markdown",
      "metadata": {
        "id": "IJPr73p9O8w_"
      },
      "source": [
        "Probamos también realizar la selección de las configuraciones que den el mejor modelo utilizando RandomizedSearchCV, pero al obtener iguales resultados que con GridSearchCV decidimos seguir utilizando este que era más sencillo."
      ]
    },
    {
      "cell_type": "code",
      "metadata": {
        "id": "qasM1JqDp6Qp"
      },
      "source": [
        "# Logreg = LogisticRegression()\n",
        "# Logreg_clf = RandomizedSearchCV(Logreg, params, n_iter=36, cv=3, random_state=0, n_jobs=-1)\n",
        "# Logreg_clf.fit(X_train, y_train)\n",
        "# best_Logreg = Logreg_clf.best_estimator_"
      ],
      "execution_count": 37,
      "outputs": []
    },
    {
      "cell_type": "code",
      "metadata": {
        "colab": {
          "base_uri": "https://localhost:8080/"
        },
        "id": "EJ1E6q6dlOY0",
        "outputId": "aa7b15c1-76d2-4f86-c55e-ae1b2d257e24"
      },
      "source": [
        "print(best_Logreg)"
      ],
      "execution_count": 38,
      "outputs": [
        {
          "output_type": "stream",
          "name": "stdout",
          "text": [
            "LogisticRegression(C=1.0, class_weight=None, dual=False, fit_intercept=True,\n",
            "                   intercept_scaling=1, l1_ratio=None, max_iter=100,\n",
            "                   multi_class='auto', n_jobs=None, penalty='l1',\n",
            "                   random_state=None, solver='liblinear', tol=0.0001, verbose=0,\n",
            "                   warm_start=False)\n"
          ]
        }
      ]
    },
    {
      "cell_type": "code",
      "metadata": {
        "id": "-O7b1pUCxulN",
        "colab": {
          "base_uri": "https://localhost:8080/"
        },
        "outputId": "a23ae4fb-4329-4618-fb1e-3721183fb7ec"
      },
      "source": [
        "text = \"Regresión Logística - Reporte de clasificación del conjunto de testeo\"\n",
        "print(len(text)*\"=\")\n",
        "print(text)\n",
        "print(len(text)*\"=\")\n",
        "print(classification_report(y_test, best_Logreg.predict(X_test)))"
      ],
      "execution_count": 39,
      "outputs": [
        {
          "output_type": "stream",
          "name": "stdout",
          "text": [
            "=====================================================================\n",
            "Regresión Logística - Reporte de clasificación del conjunto de testeo\n",
            "=====================================================================\n",
            "              precision    recall  f1-score   support\n",
            "\n",
            "    negative       0.69      0.59      0.64       120\n",
            "     neutral       0.80      0.87      0.83       575\n",
            "    positive       0.69      0.61      0.65       273\n",
            "\n",
            "    accuracy                           0.76       968\n",
            "   macro avg       0.73      0.69      0.71       968\n",
            "weighted avg       0.75      0.76      0.76       968\n",
            "\n"
          ]
        }
      ]
    },
    {
      "cell_type": "code",
      "metadata": {
        "colab": {
          "base_uri": "https://localhost:8080/",
          "height": 311
        },
        "id": "0AT77hhilLD9",
        "outputId": "3d866114-1f88-4ea6-cdd7-8fc719e291c8"
      },
      "source": [
        "cm = confusion_matrix(y_test, best_Logreg.predict(X_test),\n",
        "                      labels=['neutral', 'positive', 'negative'])\n",
        "plot_confusion_matrix(cm, ['neutral', 'positive', 'negative'])"
      ],
      "execution_count": 40,
      "outputs": [
        {
          "output_type": "display_data",
          "data": {
            "image/png": "[encoded data removed]",
            "text/plain": [
              "<Figure size 432x288 with 2 Axes>"
            ]
          },
          "metadata": {
            "needs_background": "light"
          }
        }
      ]
    },
    {
      "cell_type": "markdown",
      "metadata": {
        "id": "ie6RgLmOsuIH"
      },
      "source": [
        "### **SVM**"
      ]
    },
    {
      "cell_type": "code",
      "metadata": {
        "id": "waA19a3dstXV"
      },
      "source": [
        "from sklearn.svm import SVC\n",
        "\n",
        "params = {\n",
        "    \"kernel\": [\"linear\", \"poly\", \"rbf\", \"sigmoid\"],\n",
        "    \"gamma\": [\"auto\", \"scale\"],\n",
        "    # \"C\": [1,10,20]\n",
        "}\n",
        "\n",
        "svm = SVC()\n",
        "svm_clf = GridSearchCV(svm, params, cv=3, scoring='f1_macro', n_jobs=-1)\n",
        "svm_clf.fit(X_train, y_train)\n",
        "best_svm = svm_clf.best_estimator_"
      ],
      "execution_count": 41,
      "outputs": []
    },
    {
      "cell_type": "code",
      "metadata": {
        "colab": {
          "base_uri": "https://localhost:8080/"
        },
        "id": "b_uLn89UtVwE",
        "outputId": "31fc919e-ba99-4ada-bccc-4d5c8753a287"
      },
      "source": [
        "print(best_svm)"
      ],
      "execution_count": 42,
      "outputs": [
        {
          "output_type": "stream",
          "name": "stdout",
          "text": [
            "SVC(C=1.0, break_ties=False, cache_size=200, class_weight=None, coef0=0.0,\n",
            "    decision_function_shape='ovr', degree=3, gamma='auto', kernel='linear',\n",
            "    max_iter=-1, probability=False, random_state=None, shrinking=True,\n",
            "    tol=0.001, verbose=False)\n"
          ]
        }
      ]
    },
    {
      "cell_type": "code",
      "metadata": {
        "colab": {
          "base_uri": "https://localhost:8080/"
        },
        "id": "uQ_oX7PbrPr8",
        "outputId": "89ed50fd-91ea-4031-9eb1-37a0c4b1ced7"
      },
      "source": [
        "text = \"SVM - Reporte de clasificación del conjunto de testeo\"\n",
        "print(len(text)*\"=\")\n",
        "print(text)\n",
        "print(len(text)*\"=\")\n",
        "print(classification_report(y_test, best_svm.predict(X_test)))"
      ],
      "execution_count": 43,
      "outputs": [
        {
          "output_type": "stream",
          "name": "stdout",
          "text": [
            "=====================================================\n",
            "SVM - Reporte de clasificación del conjunto de testeo\n",
            "=====================================================\n",
            "              precision    recall  f1-score   support\n",
            "\n",
            "    negative       0.60      0.64      0.62       120\n",
            "     neutral       0.81      0.82      0.81       575\n",
            "    positive       0.65      0.61      0.63       273\n",
            "\n",
            "    accuracy                           0.74       968\n",
            "   macro avg       0.68      0.69      0.69       968\n",
            "weighted avg       0.74      0.74      0.74       968\n",
            "\n"
          ]
        }
      ]
    },
    {
      "cell_type": "code",
      "metadata": {
        "colab": {
          "base_uri": "https://localhost:8080/",
          "height": 311
        },
        "id": "pXjbT12juj8R",
        "outputId": "b4624a00-ef10-453e-96d0-1d528bbe98a0"
      },
      "source": [
        "cm = confusion_matrix(y_test, best_svm.predict(X_test),\n",
        "                      labels=['neutral', 'positive', 'negative'])\n",
        "plot_confusion_matrix(cm, ['neutral', 'positive', 'negative'])"
      ],
      "execution_count": 44,
      "outputs": [
        {
          "output_type": "display_data",
          "data": {
            "image/png": "[encoded data removed]",
            "text/plain": [
              "<Figure size 432x288 with 2 Axes>"
            ]
          },
          "metadata": {
            "needs_background": "light"
          }
        }
      ]
    },
    {
      "cell_type": "markdown",
      "metadata": {
        "id": "xZBY-XgWcZ_n"
      },
      "source": [
        "### **SGDClassifier**"
      ]
    },
    {
      "cell_type": "code",
      "metadata": {
        "id": "SVx6FfwKzA5w"
      },
      "source": [
        "from sklearn.linear_model import SGDClassifier\n",
        "\n",
        "params = {\n",
        "    'loss': ['hinge','log','squared_loss','epsilon_insensitive'],\n",
        "    'penalty' : ['l2', 'l1', 'none'],\n",
        "    'alpha' : [0.0001, 0.001, 0.01, 0.1],\n",
        "    'random_state': [42],\n",
        "    'learning_rate': ['optimal','constant','invscaling'],\n",
        "    'eta0': [0.0001, 0.001, 0.01, 0.1]\n",
        "}\n",
        "\n",
        "sgdlinear = SGDClassifier()\n",
        "sgdlinear_clf = GridSearchCV(sgdlinear, params, cv=5, scoring='f1_macro', n_jobs=-1)\n",
        "sgdlinear_clf.fit(X_train, y_train)\n",
        "best_sgdlinear = sgdlinear_clf.best_estimator_"
      ],
      "execution_count": 50,
      "outputs": []
    },
    {
      "cell_type": "code",
      "metadata": {
        "colab": {
          "base_uri": "https://localhost:8080/"
        },
        "id": "72SPu_R1zOta",
        "outputId": "f1f4e5ca-63c9-4369-a236-22b8e8d46e40"
      },
      "source": [
        "print(best_sgdlinear)"
      ],
      "execution_count": 51,
      "outputs": [
        {
          "output_type": "stream",
          "name": "stdout",
          "text": [
            "SGDClassifier(alpha=0.001, average=False, class_weight=None,\n",
            "              early_stopping=False, epsilon=0.1, eta0=0.01, fit_intercept=True,\n",
            "              l1_ratio=0.15, learning_rate='constant', loss='hinge',\n",
            "              max_iter=1000, n_iter_no_change=5, n_jobs=None, penalty='l2',\n",
            "              power_t=0.5, random_state=42, shuffle=True, tol=0.001,\n",
            "              validation_fraction=0.1, verbose=0, warm_start=False)\n"
          ]
        }
      ]
    },
    {
      "cell_type": "code",
      "metadata": {
        "colab": {
          "base_uri": "https://localhost:8080/"
        },
        "id": "obhGbZAazRQR",
        "outputId": "f87cd84f-08f7-4462-8e76-b64d007c26fb"
      },
      "source": [
        "text = \"SGD Classifier - Reporte de clasificación del conjunto de testeo\"\n",
        "print(len(text)*\"=\")\n",
        "print(text)\n",
        "print(len(text)*\"=\")\n",
        "print(classification_report(y_test, best_sgdlinear.predict(X_test)))"
      ],
      "execution_count": 52,
      "outputs": [
        {
          "output_type": "stream",
          "name": "stdout",
          "text": [
            "================================================================\n",
            "SGD Classifier - Reporte de clasificación del conjunto de testeo\n",
            "================================================================\n",
            "              precision    recall  f1-score   support\n",
            "\n",
            "    negative       0.62      0.60      0.61       120\n",
            "     neutral       0.80      0.84      0.82       575\n",
            "    positive       0.68      0.63      0.65       273\n",
            "\n",
            "    accuracy                           0.75       968\n",
            "   macro avg       0.70      0.69      0.69       968\n",
            "weighted avg       0.74      0.75      0.75       968\n",
            "\n"
          ]
        }
      ]
    },
    {
      "cell_type": "code",
      "metadata": {
        "colab": {
          "base_uri": "https://localhost:8080/",
          "height": 0
        },
        "id": "BCVoOuwyL9Zf",
        "outputId": "a00d52bb-39cf-4a8e-f158-e0a0482e0a33"
      },
      "source": [
        "cm = confusion_matrix(y_test, best_sgdlinear.predict(X_test),\n",
        "                      labels=['neutral', 'positive', 'negative'])\n",
        "plot_confusion_matrix(cm, ['neutral', 'positive', 'negative'])"
      ],
      "execution_count": 53,
      "outputs": [
        {
          "output_type": "display_data",
          "data": {
            "image/png": "[encoded data removed]",
            "text/plain": [
              "<Figure size 432x288 with 2 Axes>"
            ]
          },
          "metadata": {
            "needs_background": "light"
          }
        }
      ]
    },
    {
      "cell_type": "markdown",
      "metadata": {
        "id": "xuF_xwR4cEM_"
      },
      "source": [
        "### **DecisionTreeClassifier**"
      ]
    },
    {
      "cell_type": "code",
      "metadata": {
        "id": "EkLWVbp3rUdX"
      },
      "source": [
        "from sklearn.tree import DecisionTreeClassifier\n",
        "\n",
        "search_params = {\n",
        "    'criterion': ['gini', 'entropy'],\n",
        "    'min_samples_leaf': [1, 2, 5],\n",
        "    'max_depth': [3, 6, 10]\n",
        "}\n",
        "\n",
        "tree = DecisionTreeClassifier(random_state=42)\n",
        "tree_clf = GridSearchCV(tree, search_params, cv=3, scoring='f1_macro', n_jobs=-1)\n",
        "tree_clf.fit(X_train, y_train)\n",
        "\n",
        "best_tree = tree_clf.best_estimator_"
      ],
      "execution_count": 65,
      "outputs": []
    },
    {
      "cell_type": "code",
      "metadata": {
        "colab": {
          "base_uri": "https://localhost:8080/"
        },
        "id": "zZCv3opMr-QN",
        "outputId": "f69261c9-9785-4280-ec35-e49a016f3f2c"
      },
      "source": [
        "print(best_tree)"
      ],
      "execution_count": 66,
      "outputs": [
        {
          "output_type": "stream",
          "name": "stdout",
          "text": [
            "DecisionTreeClassifier(ccp_alpha=0.0, class_weight=None, criterion='gini',\n",
            "                       max_depth=10, max_features=None, max_leaf_nodes=None,\n",
            "                       min_impurity_decrease=0.0, min_impurity_split=None,\n",
            "                       min_samples_leaf=5, min_samples_split=2,\n",
            "                       min_weight_fraction_leaf=0.0, presort='deprecated',\n",
            "                       random_state=42, splitter='best')\n"
          ]
        }
      ]
    },
    {
      "cell_type": "code",
      "metadata": {
        "colab": {
          "base_uri": "https://localhost:8080/"
        },
        "id": "0wJdSQ2PsIMY",
        "outputId": "67f5d034-b87c-45be-f83a-73e105afc206"
      },
      "source": [
        "text = \"Arboles de decisión - Reporte de clasificación del conjunto de testeo\"\n",
        "print(len(text)*\"=\")\n",
        "print(text)\n",
        "print(len(text)*\"=\")\n",
        "print(classification_report(y_test, best_tree.predict(X_test)))"
      ],
      "execution_count": 67,
      "outputs": [
        {
          "output_type": "stream",
          "name": "stdout",
          "text": [
            "=====================================================================\n",
            "Arboles de decisión - Reporte de clasificación del conjunto de testeo\n",
            "=====================================================================\n",
            "              precision    recall  f1-score   support\n",
            "\n",
            "    negative       0.69      0.28      0.40       120\n",
            "     neutral       0.70      0.94      0.80       575\n",
            "    positive       0.70      0.39      0.50       273\n",
            "\n",
            "    accuracy                           0.70       968\n",
            "   macro avg       0.70      0.54      0.57       968\n",
            "weighted avg       0.70      0.70      0.67       968\n",
            "\n"
          ]
        }
      ]
    },
    {
      "cell_type": "code",
      "metadata": {
        "id": "0EdrHCvUxula",
        "colab": {
          "base_uri": "https://localhost:8080/",
          "height": 311
        },
        "outputId": "18da337f-b8f8-490e-b5ee-bc34b41afe6f"
      },
      "source": [
        "cm = confusion_matrix(y_test, best_tree.predict(X_test),\n",
        "                      labels=['neutral', 'positive', 'negative'])\n",
        "plot_confusion_matrix(cm, ['neutral', 'positive', 'negative'])"
      ],
      "execution_count": 68,
      "outputs": [
        {
          "output_type": "display_data",
          "data": {
            "image/png": "[encoded data removed]",
            "text/plain": [
              "<Figure size 432x288 with 2 Axes>"
            ]
          },
          "metadata": {
            "needs_background": "light"
          }
        }
      ]
    },
    {
      "cell_type": "markdown",
      "metadata": {
        "id": "xmK-qkeClBDN"
      },
      "source": [
        "### **Random Forest**"
      ]
    },
    {
      "cell_type": "code",
      "metadata": {
        "id": "Vppi2ggElK3P"
      },
      "source": [
        "from sklearn.ensemble import RandomForestClassifier\n",
        "\n",
        "# Selección de parámetros\n",
        "params = {\n",
        "    'criterion': ['gini', 'entropy'],\n",
        "    'min_samples_split': [1, 2, 5],\n",
        "    'min_samples_leaf': [1, 2, 5],\n",
        "    'max_depth': [200, 300, 400], # En este caso mejora tocando este hiperparametro\n",
        "    'max_features': ['sqrt', 'log2']\n",
        "}\n",
        "\n",
        "rforest = RandomForestClassifier()\n",
        "rforest_clf = GridSearchCV(rforest, params, cv=3, scoring='f1_macro', n_jobs=-1)\n",
        "rforest_clf.fit(X_train, y_train)\n",
        "\n",
        "best_rforest = rforest_clf.best_estimator_"
      ],
      "execution_count": 45,
      "outputs": []
    },
    {
      "cell_type": "code",
      "metadata": {
        "id": "PGflKOcTlJYT"
      },
      "source": [
        "# rforest_clf = RandomizedSearchCV(rforest, params, n_iter=36, cv=10, random_state=0)\n",
        "# rforest_clf.fit(X_train, y_train)\n",
        "\n",
        "# best_rforest = rforest_clf.best_estimator_"
      ],
      "execution_count": 46,
      "outputs": []
    },
    {
      "cell_type": "code",
      "metadata": {
        "colab": {
          "base_uri": "https://localhost:8080/"
        },
        "id": "cUOnavE9yBDI",
        "outputId": "3a7d4908-3038-481e-eedf-36a35e172257"
      },
      "source": [
        "print(best_rforest)"
      ],
      "execution_count": 47,
      "outputs": [
        {
          "output_type": "stream",
          "name": "stdout",
          "text": [
            "RandomForestClassifier(bootstrap=True, ccp_alpha=0.0, class_weight=None,\n",
            "                       criterion='gini', max_depth=400, max_features='sqrt',\n",
            "                       max_leaf_nodes=None, max_samples=None,\n",
            "                       min_impurity_decrease=0.0, min_impurity_split=None,\n",
            "                       min_samples_leaf=1, min_samples_split=5,\n",
            "                       min_weight_fraction_leaf=0.0, n_estimators=100,\n",
            "                       n_jobs=None, oob_score=False, random_state=None,\n",
            "                       verbose=0, warm_start=False)\n"
          ]
        }
      ]
    },
    {
      "cell_type": "code",
      "metadata": {
        "colab": {
          "base_uri": "https://localhost:8080/"
        },
        "id": "QurTqsSwWMCA",
        "outputId": "2b118b5d-cc6d-46d3-a318-9939f9516ddb"
      },
      "source": [
        "text = \"Random Forest - Reporte de clasificación del conjunto de testeo\"\n",
        "print(len(text)*\"=\")\n",
        "print(text)\n",
        "print(len(text)*\"=\")\n",
        "print(classification_report(y_test, best_rforest.predict(X_test)))"
      ],
      "execution_count": 48,
      "outputs": [
        {
          "output_type": "stream",
          "name": "stdout",
          "text": [
            "===============================================================\n",
            "Random Forest - Reporte de clasificación del conjunto de testeo\n",
            "===============================================================\n",
            "              precision    recall  f1-score   support\n",
            "\n",
            "    negative       0.75      0.43      0.55       120\n",
            "     neutral       0.76      0.91      0.83       575\n",
            "    positive       0.70      0.55      0.61       273\n",
            "\n",
            "    accuracy                           0.75       968\n",
            "   macro avg       0.74      0.63      0.67       968\n",
            "weighted avg       0.75      0.75      0.74       968\n",
            "\n"
          ]
        }
      ]
    },
    {
      "cell_type": "code",
      "metadata": {
        "colab": {
          "base_uri": "https://localhost:8080/",
          "height": 0
        },
        "id": "_1x36i91KoAJ",
        "outputId": "92e8b89a-5e6a-4dfc-95f3-a74fc3fab400"
      },
      "source": [
        "cm = confusion_matrix(y_test, best_rforest.predict(X_test),\n",
        "                      labels=['neutral', 'positive', 'negative'])\n",
        "plot_confusion_matrix(cm, ['neutral', 'positive', 'negative'])"
      ],
      "execution_count": 49,
      "outputs": [
        {
          "output_type": "display_data",
          "data": {
            "image/png": "[encoded data removed]",
            "text/plain": [
              "<Figure size 432x288 with 2 Axes>"
            ]
          },
          "metadata": {
            "needs_background": "light"
          }
        }
      ]
    },
    {
      "cell_type": "markdown",
      "metadata": {
        "id": "VkoYwboNcKaa"
      },
      "source": [
        "### **KNeighborsClassifier**"
      ]
    },
    {
      "cell_type": "code",
      "metadata": {
        "id": "1zvf0-G1rN7h"
      },
      "source": [
        "from sklearn.neighbors import KNeighborsClassifier\n",
        "\n",
        "params = {\n",
        "    \"n_neighbors\": [1,2,3,4,5,6,7,8,15,20],\n",
        "    \"weights\": [\"uniform\", \"distance\"],\n",
        "    \"algorithm\":[\"auto\", \"ball_tree\", \"kd_tree\", \"brute\"]\n",
        "}\n",
        "\n",
        "knn = KNeighborsClassifier()\n",
        "knn_clf= GridSearchCV(knn, params, cv=3, scoring='f1_macro', n_jobs=-1)\n",
        "knn_clf.fit(X_train, y_train)\n",
        "\n",
        "best_knn = knn_clf.best_estimator_"
      ],
      "execution_count": 69,
      "outputs": []
    },
    {
      "cell_type": "code",
      "metadata": {
        "colab": {
          "base_uri": "https://localhost:8080/"
        },
        "id": "ex5-tXvBxHxF",
        "outputId": "8ce57873-83f5-42ad-b484-c28246ed3f9d"
      },
      "source": [
        "print(best_knn)"
      ],
      "execution_count": 70,
      "outputs": [
        {
          "output_type": "stream",
          "name": "stdout",
          "text": [
            "KNeighborsClassifier(algorithm='auto', leaf_size=30, metric='minkowski',\n",
            "                     metric_params=None, n_jobs=None, n_neighbors=1, p=2,\n",
            "                     weights='uniform')\n"
          ]
        }
      ]
    },
    {
      "cell_type": "code",
      "metadata": {
        "id": "1pRmevnOxulc",
        "colab": {
          "base_uri": "https://localhost:8080/"
        },
        "outputId": "b9416072-8375-43a4-eda9-04e99d350641"
      },
      "source": [
        "text = \"KNN - Reporte de clasificación del conjunto de testeo\"\n",
        "print(len(text)*\"=\")\n",
        "print(text)\n",
        "print(len(text)*\"=\")\n",
        "print(classification_report(y_test, best_knn.predict(X_test)))"
      ],
      "execution_count": 71,
      "outputs": [
        {
          "output_type": "stream",
          "name": "stdout",
          "text": [
            "=====================================================\n",
            "KNN - Reporte de clasificación del conjunto de testeo\n",
            "=====================================================\n",
            "              precision    recall  f1-score   support\n",
            "\n",
            "    negative       0.33      0.33      0.33       120\n",
            "     neutral       0.71      0.88      0.79       575\n",
            "    positive       0.61      0.31      0.41       273\n",
            "\n",
            "    accuracy                           0.65       968\n",
            "   macro avg       0.55      0.51      0.51       968\n",
            "weighted avg       0.64      0.65      0.62       968\n",
            "\n"
          ]
        }
      ]
    },
    {
      "cell_type": "code",
      "metadata": {
        "id": "0cQYMxndxuld",
        "colab": {
          "base_uri": "https://localhost:8080/",
          "height": 311
        },
        "outputId": "293e8016-e11a-4b50-e357-3398dfea5cd4"
      },
      "source": [
        "cm = confusion_matrix(y_test, best_knn.predict(X_test),\n",
        "                      labels=['neutral', 'positive', 'negative'])\n",
        "plot_confusion_matrix(cm, ['neutral', 'positive', 'negative'])"
      ],
      "execution_count": 72,
      "outputs": [
        {
          "output_type": "display_data",
          "data": {
            "image/png": "[encoded data removed]",
            "text/plain": [
              "<Figure size 432x288 with 2 Axes>"
            ]
          },
          "metadata": {
            "needs_background": "light"
          }
        }
      ]
    },
    {
      "cell_type": "markdown",
      "metadata": {
        "id": "-6YXDPXwq6XT"
      },
      "source": [
        "### Conclusión\n",
        "\n",
        "De todos los algoritmos de clasificación probados el mejor modelo con el que mejor resultados obtuvimos es de regresión logistica, con un accuracy del 76 y un f1_score del 71, siendo la medición máxima en ambas."
      ]
    }
  ]
}
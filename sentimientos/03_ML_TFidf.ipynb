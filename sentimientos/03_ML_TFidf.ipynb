{
 "cells": [
  {
   "cell_type": "markdown",
   "metadata": {
    "id": "kgMEw-qD4X0-"
   },
   "source": [
    "# Trabajo de Mentoria - DiploDatos\n",
    "\n",
    "**Grupo A**\n",
    "    \n",
    "Integrantes: \n",
    "    <li> Bruno Garcia\n",
    "    <li> Nicolas Chiapello\n",
    "    <li> Martin Peñas\n",
    "    <li> Pame Pairo"
   ]
  },
  {
   "cell_type": "markdown",
   "metadata": {
    "id": "V7CJdzArBBw4"
   },
   "source": [
    "## Vectorización: Tfidf\n",
    "\n",
    "El conteo de la frecuencia de las palabras tiene la desventaja que palabras como “the”, “a”, “is” en inglés, son muy frecuentes y son poco informativas sobre el contenido real del documento.\n",
    "Una alternativa que suele utilizarse es emplear Tfidf. Tf significa término de frecuencia mientras que tf-idf significa término de frecuencia multiplicado por la frecuencia inversa del documento.\n"
   ]
  },
  {
   "cell_type": "code",
   "execution_count": 17,
   "metadata": {},
   "outputs": [
    {
     "data": {
      "text/html": [
       "<div>\n",
       "<style scoped>\n",
       "    .dataframe tbody tr th:only-of-type {\n",
       "        vertical-align: middle;\n",
       "    }\n",
       "\n",
       "    .dataframe tbody tr th {\n",
       "        vertical-align: top;\n",
       "    }\n",
       "\n",
       "    .dataframe thead th {\n",
       "        text-align: right;\n",
       "    }\n",
       "</style>\n",
       "<table border=\"1\" class=\"dataframe\">\n",
       "  <thead>\n",
       "    <tr style=\"text-align: right;\">\n",
       "      <th></th>\n",
       "      <th>feeling</th>\n",
       "      <th>news</th>\n",
       "      <th>news_tokens</th>\n",
       "      <th>news_tokens_tagged</th>\n",
       "    </tr>\n",
       "  </thead>\n",
       "  <tbody>\n",
       "    <tr>\n",
       "      <th>0</th>\n",
       "      <td>neutral</td>\n",
       "      <td>According to Gran , the company has no plans t...</td>\n",
       "      <td>['accord', 'gran', 'company', 'plan', 'move', ...</td>\n",
       "      <td>[('accord', 'NN'), ('gran', 'VBD'), ('company'...</td>\n",
       "    </tr>\n",
       "    <tr>\n",
       "      <th>1</th>\n",
       "      <td>neutral</td>\n",
       "      <td>Technopolis plans to develop in stages an area...</td>\n",
       "      <td>['technopolis', 'plan', 'develop', 'stage', 'a...</td>\n",
       "      <td>[('technopolis', 'NN'), ('plan', 'NN'), ('deve...</td>\n",
       "    </tr>\n",
       "    <tr>\n",
       "      <th>2</th>\n",
       "      <td>negative</td>\n",
       "      <td>The international electronic industry company ...</td>\n",
       "      <td>['international', 'electronic', 'industry', 'c...</td>\n",
       "      <td>[('international', 'JJ'), ('electronic', 'JJ')...</td>\n",
       "    </tr>\n",
       "  </tbody>\n",
       "</table>\n",
       "</div>"
      ],
      "text/plain": [
       "    feeling                                               news  \\\n",
       "0   neutral  According to Gran , the company has no plans t...   \n",
       "1   neutral  Technopolis plans to develop in stages an area...   \n",
       "2  negative  The international electronic industry company ...   \n",
       "\n",
       "                                         news_tokens  \\\n",
       "0  ['accord', 'gran', 'company', 'plan', 'move', ...   \n",
       "1  ['technopolis', 'plan', 'develop', 'stage', 'a...   \n",
       "2  ['international', 'electronic', 'industry', 'c...   \n",
       "\n",
       "                                  news_tokens_tagged  \n",
       "0  [('accord', 'NN'), ('gran', 'VBD'), ('company'...  \n",
       "1  [('technopolis', 'NN'), ('plan', 'NN'), ('deve...  \n",
       "2  [('international', 'JJ'), ('electronic', 'JJ')...  "
      ]
     },
     "execution_count": 17,
     "metadata": {},
     "output_type": "execute_result"
    }
   ],
   "source": [
    "import pandas as pd \n",
    "import numpy as np\n",
    "\n",
    "df_news= pd.read_csv(\"data/feeling_procesado.csv\").drop(columns=\"Unnamed: 0\")\n",
    "df_news.head(3)"
   ]
  },
  {
   "cell_type": "markdown",
   "metadata": {
    "id": "0_lAfiswOPh5"
   },
   "source": [
    "## *Aprendizaje Automático*"
   ]
  },
  {
   "cell_type": "markdown",
   "metadata": {
    "id": "Z65MsRAwBHku"
   },
   "source": [
    "#### Train/Test Split"
   ]
  },
  {
   "cell_type": "code",
   "execution_count": 70,
   "metadata": {
    "id": "yeug9HeQA8Pa"
   },
   "outputs": [],
   "source": [
    "from sklearn.model_selection import train_test_split\n",
    "from sklearn.feature_extraction.text import CountVectorizer\n",
    "\n",
    "X_train, X_test, y_train, y_test = train_test_split(df_news.news_tokens, df_news.feeling, test_size=0.2, random_state=42)"
   ]
  },
  {
   "cell_type": "code",
   "execution_count": 44,
   "metadata": {},
   "outputs": [
    {
     "name": "stdout",
     "output_type": "stream",
     "text": [
      "(3870, 200)\n",
      "(968, 200)\n"
     ]
    }
   ],
   "source": [
    "from sklearn.feature_extraction.text import TfidfVectorizer\n",
    "max_features = 200\n",
    "\n",
    "tfidf = TfidfVectorizer(#ngram_range=ngram_range,\n",
    "                        stop_words=None,\n",
    "                        lowercase=False,\n",
    "                        max_features=max_features,\n",
    "                        norm='l2')\n",
    "                        \n",
    "features_train = tfidf.fit_transform(X_train).toarray()\n",
    "labels_train = y_train\n",
    "print(features_train.shape)\n",
    "\n",
    "features_test = tfidf.transform(X_test).toarray()\n",
    "labels_test = y_test\n",
    "print(features_test.shape)"
   ]
  },
  {
   "cell_type": "markdown",
   "metadata": {},
   "source": [
    "Se analiza mediante una prueba de $\\chi^2$ las palabras que están asociadas a cada nivel de sentimiento"
   ]
  },
  {
   "cell_type": "code",
   "execution_count": 35,
   "metadata": {},
   "outputs": [],
   "source": [
    "category_codes = {\n",
    "    'neutral': 0,\n",
    "    'negative': 1,\n",
    "    'positive': 2\n",
    "}\n",
    "\n",
    "df_news['Category_Code'] = df_news['feeling'].map(category_codes)"
   ]
  },
  {
   "cell_type": "code",
   "execution_count": 42,
   "metadata": {},
   "outputs": [
    {
     "name": "stdout",
     "output_type": "stream",
     "text": [
      "# 'negative' sentimiento:\n",
      "  . Most correlated unigrams:\n",
      ". loss\n",
      ". eur\n",
      ". mn\n",
      ". fell\n",
      ". decrease\n",
      "\n",
      "# 'neutral' sentimiento:\n",
      "  . Most correlated unigrams:\n",
      ". period\n",
      ". compare\n",
      ". profit\n",
      ". mn\n",
      ". eur\n",
      "\n",
      "# 'positive' sentimiento:\n",
      "  . Most correlated unigrams:\n",
      ". eur\n",
      ". sign\n",
      ". grow\n",
      ". increase\n",
      ". rise\n",
      "\n"
     ]
    }
   ],
   "source": [
    "from sklearn.feature_selection import chi2\n",
    "\n",
    "for noticia, category_id in sorted(category_codes.items()):\n",
    "    features_chi2 = chi2(features_train, labels_train == category_id)\n",
    "    indices = np.argsort(features_chi2[0])\n",
    "    feature_names = np.array(tfidf.get_feature_names())[indices]\n",
    "    unigrams = [v for v in feature_names if len(v.split(' ')) == 1]\n",
    "    bigrams = [v for v in feature_names if len(v.split(' ')) == 2]\n",
    "    print(\"# '{}' sentimiento:\".format(noticia))\n",
    "    print(\"  . Most correlated unigrams:\\n. {}\".format('\\n. '.join(unigrams[-5:])))\n",
    "   # print(\"  . Most correlated bigrams:\\n. {}\".format('\\n. '.join(bigrams[-2:])))\n",
    "    print(\"\")"
   ]
  },
  {
   "cell_type": "code",
   "execution_count": 47,
   "metadata": {},
   "outputs": [],
   "source": [
    "import itertools\n",
    "import numpy as np\n",
    "import matplotlib.pyplot as plt\n",
    "\n",
    "def plot_confusion_matrix(cm, classes,\n",
    "                          normalize=False,\n",
    "                          title='Confusion matrix',\n",
    "                          cmap=plt.cm.Blues):\n",
    "    \"\"\"\n",
    "    This function prints and plots the confusion matrix.\n",
    "    Normalization can be applied by setting `normalize=True`.\n",
    "    \"\"\"\n",
    "    if normalize:\n",
    "        cm = cm.astype('float') / cm.sum(axis=1)[:, np.newaxis]\n",
    "\n",
    "    plt.imshow(cm, interpolation='nearest', cmap=cmap)\n",
    "    plt.title(title)\n",
    "    plt.colorbar()\n",
    "    tick_marks = np.arange(len(classes))\n",
    "    plt.xticks(tick_marks, classes, rotation=45)\n",
    "    plt.yticks(tick_marks, classes)\n",
    "\n",
    "    fmt = '.2f' if normalize else 'd'\n",
    "    thresh = cm.max() / 2.\n",
    "    for i, j in itertools.product(range(cm.shape[0]), range(cm.shape[1])):\n",
    "        plt.text(j, i, format(cm[i, j], fmt),\n",
    "                 horizontalalignment=\"center\",\n",
    "                 color=\"white\" if cm[i, j] > thresh else \"black\")\n",
    "\n",
    "    plt.tight_layout()\n",
    "    plt.ylabel('Etiqueta correcta')\n",
    "    plt.xlabel('Etiqueta predicha')"
   ]
  },
  {
   "cell_type": "markdown",
   "metadata": {},
   "source": [
    "## Regresión Logística"
   ]
  },
  {
   "cell_type": "code",
   "execution_count": null,
   "metadata": {},
   "outputs": [],
   "source": [
    "from sklearn.linear_model import LogisticRegression\n",
    "from sklearn.model_selection import GridSearchCV\n",
    "\n",
    "# Selección de parámetros\n",
    "params = {\n",
    "    'penalty':['l1', 'l2', 'elasticnet', 'none'],\n",
    "    'solver': ['newton-cg', 'lbfgs', 'liblinear', 'sag', 'saga']\n",
    "}\n",
    "\n",
    "Logreg = LogisticRegression()\n",
    "Logreg_clf = GridSearchCV(Logreg, params, cv=3, scoring='f1_macro', n_jobs=-1)\n",
    "Logreg_clf.fit(features_train, labels_train)"
   ]
  },
  {
   "cell_type": "code",
   "execution_count": 19,
   "metadata": {},
   "outputs": [
    {
     "name": "stdout",
     "output_type": "stream",
     "text": [
      "LogisticRegression(penalty='none', solver='saga')\n"
     ]
    }
   ],
   "source": [
    "best_Logreg = Logreg_clf.best_estimator_\n",
    "print(best_Logreg)"
   ]
  },
  {
   "cell_type": "code",
   "execution_count": 20,
   "metadata": {},
   "outputs": [
    {
     "name": "stdout",
     "output_type": "stream",
     "text": [
      "=====================================================================\n",
      "Regresión Logística - Reporte de clasificación del conjunto de testeo\n",
      "=====================================================================\n",
      "              precision    recall  f1-score   support\n",
      "\n",
      "    negative       0.50      0.45      0.48       120\n",
      "     neutral       0.75      0.85      0.80       575\n",
      "    positive       0.64      0.48      0.55       273\n",
      "\n",
      "    accuracy                           0.70       968\n",
      "   macro avg       0.63      0.59      0.61       968\n",
      "weighted avg       0.69      0.70      0.69       968\n",
      "\n"
     ]
    }
   ],
   "source": [
    "text = \"Regresión Logística - Reporte de clasificación del conjunto de testeo\"\n",
    "print(len(text)*\"=\")\n",
    "print(text)\n",
    "print(len(text)*\"=\")\n",
    "print(classification_report(labels_test, best_Logreg.predict(features_test)))"
   ]
  },
  {
   "cell_type": "code",
   "execution_count": 23,
   "metadata": {},
   "outputs": [
    {
     "data": {
      "image/png": "[encoded data removed]",
      "text/plain": [
       "<Figure size 432x288 with 2 Axes>"
      ]
     },
     "metadata": {
      "needs_background": "light"
     },
     "output_type": "display_data"
    }
   ],
   "source": [
    "cm = confusion_matrix(labels_test, best_Logreg.predict(features_test),\n",
    "                      labels=['neutral', 'positive', 'negative'])\n",
    "plot_confusion_matrix(cm, ['neutral', 'positive', 'negative'])"
   ]
  },
  {
   "cell_type": "markdown",
   "metadata": {},
   "source": [
    "## Naive Bayes"
   ]
  },
  {
   "cell_type": "code",
   "execution_count": 52,
   "metadata": {},
   "outputs": [
    {
     "data": {
      "text/plain": [
       "GridSearchCV(cv=3, estimator=MultinomialNB(),\n",
       "             param_grid={'alpha': [1.0, 0.5, 0.1, 0.01, 0.001, 0.0001],\n",
       "                         'class_prior': [None, [0.33, 0.34, 0.33],\n",
       "                                         [0.12790698, 0.58914729, 0.28294574]],\n",
       "                         'fit_prior': [1, 0]},\n",
       "             scoring='f1_macro')"
      ]
     },
     "execution_count": 52,
     "metadata": {},
     "output_type": "execute_result"
    }
   ],
   "source": [
    "from sklearn.naive_bayes import MultinomialNB\n",
    "\n",
    "param_grid = {\n",
    "    'alpha': [1.0, 0.5, 0.1, 0.01, 0.001, 0.0001],\n",
    "    'fit_prior': [1, 0],\n",
    "    'class_prior': [None, [0.33, 0.34, 0.33], [0.12790698, 0.58914729, 0.28294574]]\n",
    "}\n",
    "\n",
    "multinomNB = MultinomialNB()\n",
    "multinomNB_clf = GridSearchCV(multinomNB, param_grid, scoring='f1_macro', cv=3)\n",
    "multinomNB_clf.fit(features_train, labels_train)"
   ]
  },
  {
   "cell_type": "code",
   "execution_count": 53,
   "metadata": {
    "colab": {
     "base_uri": "https://localhost:8080/"
    },
    "id": "fbur1zR1bfMP",
    "outputId": "d5c7292a-ac53-4f3f-bffd-b2010b58f780"
   },
   "outputs": [
    {
     "data": {
      "text/plain": [
       "MultinomialNB(alpha=0.5, fit_prior=1)"
      ]
     },
     "execution_count": 53,
     "metadata": {},
     "output_type": "execute_result"
    }
   ],
   "source": [
    "best_multinomNB = multinomNB_clf.best_estimator_\n",
    "best_multinomNB"
   ]
  },
  {
   "cell_type": "code",
   "execution_count": 54,
   "metadata": {
    "colab": {
     "base_uri": "https://localhost:8080/"
    },
    "id": "rL-chM6WbiM4",
    "outputId": "3dd0db2b-7f8b-4a79-bb8b-a6bb95f4a13b"
   },
   "outputs": [
    {
     "name": "stdout",
     "output_type": "stream",
     "text": [
      "=============================================================\n",
      "Naive Bayes - Reporte de clasificación del conjunto de testeo\n",
      "=============================================================\n",
      "              precision    recall  f1-score   support\n",
      "\n",
      "           0       0.70      0.93      0.80       575\n",
      "           1       0.58      0.32      0.41       120\n",
      "           2       0.60      0.31      0.41       273\n",
      "\n",
      "    accuracy                           0.68       968\n",
      "   macro avg       0.63      0.52      0.54       968\n",
      "weighted avg       0.66      0.68      0.64       968\n",
      "\n"
     ]
    }
   ],
   "source": [
    "text = \"Naive Bayes - Reporte de clasificación del conjunto de testeo\"\n",
    "print(len(text)*\"=\")\n",
    "print(text)\n",
    "print(len(text)*\"=\")\n",
    "print(classification_report(labels_test, best_multinomNB.predict(features_test)))"
   ]
  },
  {
   "cell_type": "markdown",
   "metadata": {},
   "source": [
    "## SVM"
   ]
  },
  {
   "cell_type": "code",
   "execution_count": 24,
   "metadata": {},
   "outputs": [],
   "source": [
    "from sklearn.svm import SVC\n",
    "\n",
    "params = {\n",
    "    \"kernel\": [\"linear\", \"poly\", \"rbf\", \"sigmoid\"],\n",
    "    \"gamma\": [\"auto\", \"scale\"],\n",
    "    \"C\": [1,10,20]\n",
    "}\n",
    "\n",
    "svm = SVC()\n",
    "svm_clf = GridSearchCV(svm, params, cv=3, scoring='f1_macro', n_jobs=-1)\n",
    "svm_clf.fit(features_train, labels_train)\n",
    "\n",
    "best_svm = svm_clf.best_estimator_"
   ]
  },
  {
   "cell_type": "code",
   "execution_count": 25,
   "metadata": {},
   "outputs": [
    {
     "name": "stdout",
     "output_type": "stream",
     "text": [
      "SVC(C=20, gamma='auto', kernel='linear')\n"
     ]
    }
   ],
   "source": [
    "print(best_svm)"
   ]
  },
  {
   "cell_type": "code",
   "execution_count": 26,
   "metadata": {},
   "outputs": [
    {
     "name": "stdout",
     "output_type": "stream",
     "text": [
      "=====================================================\n",
      "SVM - Reporte de clasificación del conjunto de testeo\n",
      "=====================================================\n",
      "              precision    recall  f1-score   support\n",
      "\n",
      "    negative       0.50      0.42      0.46       120\n",
      "     neutral       0.73      0.86      0.79       575\n",
      "    positive       0.63      0.43      0.51       273\n",
      "\n",
      "    accuracy                           0.68       968\n",
      "   macro avg       0.62      0.57      0.59       968\n",
      "weighted avg       0.67      0.68      0.67       968\n",
      "\n"
     ]
    }
   ],
   "source": [
    "text = \"SVM - Reporte de clasificación del conjunto de testeo\"\n",
    "print(len(text)*\"=\")\n",
    "print(text)\n",
    "print(len(text)*\"=\")\n",
    "print(classification_report(labels_test, best_svm.predict(features_test)))"
   ]
  },
  {
   "cell_type": "code",
   "execution_count": 27,
   "metadata": {},
   "outputs": [
    {
     "data": {
      "image/png": "[encoded data removed]",
      "text/plain": [
       "<Figure size 432x288 with 2 Axes>"
      ]
     },
     "metadata": {
      "needs_background": "light"
     },
     "output_type": "display_data"
    }
   ],
   "source": [
    "cm = confusion_matrix(labels_test, best_svm.predict(features_test),\n",
    "                      labels=['neutral', 'positive', 'negative'])\n",
    "plot_confusion_matrix(cm, ['neutral', 'positive', 'negative'])"
   ]
  },
  {
   "cell_type": "markdown",
   "metadata": {},
   "source": [
    "## Random Forest"
   ]
  },
  {
   "cell_type": "code",
   "execution_count": 48,
   "metadata": {},
   "outputs": [],
   "source": [
    "param_grid = {\n",
    "    'max_depth': [10, 30, 60],\n",
    "    'criterion':['gini', 'entropy'],\n",
    "    'min_samples_split': [2, 4, 8, 10],\n",
    "    'min_samples_leaf':[2, 5, 10],\n",
    "    'n_estimators': [10, 20, 40, 50]\n",
    "   \n",
    "}"
   ]
  },
  {
   "cell_type": "code",
   "execution_count": 51,
   "metadata": {},
   "outputs": [
    {
     "data": {
      "text/plain": [
       "GridSearchCV(cv=3, estimator=RandomForestClassifier(random_state=42),\n",
       "             param_grid={'criterion': ['gini', 'entropy'],\n",
       "                         'max_depth': [10, 30, 60],\n",
       "                         'min_samples_leaf': [2, 5, 10],\n",
       "                         'min_samples_split': [2, 4, 8, 10],\n",
       "                         'n_estimators': [10, 20, 40, 50]},\n",
       "             scoring=make_scorer(f1_score, average=macro))"
      ]
     },
     "execution_count": 51,
     "metadata": {},
     "output_type": "execute_result"
    }
   ],
   "source": [
    "from sklearn.ensemble import RandomForestClassifier\n",
    "from sklearn.metrics import classification_report, confusion_matrix, accuracy_score, plot_confusion_matrix,f1_score, make_scorer\n",
    "\n",
    "# First create the base model to tune\n",
    "rfc = RandomForestClassifier(random_state=42)\n",
    "scorer = make_scorer(f1_score, average = \"macro\")\n",
    "\n",
    "# Definition of the random search\n",
    "random_search = GridSearchCV(estimator=rfc,\n",
    "                             param_grid=param_grid,\n",
    "                             scoring= scorer,\n",
    "                             cv=3)\n",
    "\n",
    "# Fit the random search model\n",
    "random_search.fit(features_train, labels_train)"
   ]
  },
  {
   "cell_type": "code",
   "execution_count": 60,
   "metadata": {},
   "outputs": [
    {
     "data": {
      "text/plain": [
       "RandomForestClassifier(criterion='entropy', max_depth=60, min_samples_leaf=2,\n",
       "                       n_estimators=50, random_state=42)"
      ]
     },
     "execution_count": 60,
     "metadata": {},
     "output_type": "execute_result"
    }
   ],
   "source": [
    "random_search.best_estimator_"
   ]
  },
  {
   "cell_type": "code",
   "execution_count": 61,
   "metadata": {},
   "outputs": [],
   "source": [
    "best_rfc = random_search.best_estimator_"
   ]
  },
  {
   "cell_type": "code",
   "execution_count": 62,
   "metadata": {},
   "outputs": [
    {
     "data": {
      "text/plain": [
       "RandomForestClassifier(criterion='entropy', max_depth=60, min_samples_leaf=2,\n",
       "                       n_estimators=50, random_state=42)"
      ]
     },
     "execution_count": 62,
     "metadata": {},
     "output_type": "execute_result"
    }
   ],
   "source": [
    "best_rfc.fit(features_train, labels_train)"
   ]
  },
  {
   "cell_type": "code",
   "execution_count": 63,
   "metadata": {},
   "outputs": [],
   "source": [
    "rfc_pred = best_rfc.predict(features_test)"
   ]
  },
  {
   "cell_type": "code",
   "execution_count": 64,
   "metadata": {},
   "outputs": [
    {
     "name": "stdout",
     "output_type": "stream",
     "text": [
      "===============================================================\n",
      "Random Forest - Reporte de clasificación del conjunto de testeo\n",
      "===============================================================\n",
      "              precision    recall  f1-score   support\n",
      "\n",
      "    negative       0.66      0.32      0.43       120\n",
      "     neutral       0.72      0.91      0.80       575\n",
      "    positive       0.60      0.41      0.49       273\n",
      "\n",
      "    accuracy                           0.69       968\n",
      "   macro avg       0.66      0.55      0.57       968\n",
      "weighted avg       0.68      0.69      0.67       968\n",
      "\n"
     ]
    }
   ],
   "source": [
    "text = \"Random Forest - Reporte de clasificación del conjunto de testeo\"\n",
    "print(len(text)*\"=\")\n",
    "print(text)\n",
    "print(len(text)*\"=\")\n",
    "\n",
    "print(classification_report(labels_test,rfc_pred))"
   ]
  },
  {
   "cell_type": "markdown",
   "metadata": {},
   "source": [
    "## KNeighborsClassifier"
   ]
  },
  {
   "cell_type": "code",
   "execution_count": 66,
   "metadata": {},
   "outputs": [],
   "source": [
    "from sklearn.neighbors import KNeighborsClassifier\n",
    "\n",
    "params = {\n",
    "    \"n_neighbors\": [1,2,3,4,5,6,7,8,15,20],\n",
    "    \"weights\": [\"uniform\", \"distance\"],\n",
    "    \"algorithm\":[\"auto\", \"ball_tree\", \"kd_tree\", \"brute\"]\n",
    "}\n",
    "\n",
    "knn = KNeighborsClassifier()\n",
    "knn_clf= GridSearchCV(knn, params, cv=3, scoring='f1_macro', n_jobs=-1)\n",
    "knn_clf.fit(features_train, labels_train)\n",
    "\n",
    "best_knn = knn_clf.best_estimator_"
   ]
  },
  {
   "cell_type": "code",
   "execution_count": 67,
   "metadata": {},
   "outputs": [
    {
     "name": "stdout",
     "output_type": "stream",
     "text": [
      "KNeighborsClassifier(n_neighbors=6, weights='distance')\n"
     ]
    }
   ],
   "source": [
    "print(best_knn)"
   ]
  },
  {
   "cell_type": "code",
   "execution_count": 68,
   "metadata": {},
   "outputs": [
    {
     "name": "stdout",
     "output_type": "stream",
     "text": [
      "=====================================================\n",
      "KNN - Reporte de clasificación del conjunto de testeo\n",
      "=====================================================\n",
      "              precision    recall  f1-score   support\n",
      "\n",
      "    negative       0.56      0.31      0.40       120\n",
      "     neutral       0.70      0.89      0.78       575\n",
      "    positive       0.55      0.34      0.42       273\n",
      "\n",
      "    accuracy                           0.66       968\n",
      "   macro avg       0.60      0.51      0.53       968\n",
      "weighted avg       0.64      0.66      0.63       968\n",
      "\n"
     ]
    }
   ],
   "source": [
    "text = \"KNN - Reporte de clasificación del conjunto de testeo\"\n",
    "print(len(text)*\"=\")\n",
    "print(text)\n",
    "print(len(text)*\"=\")\n",
    "\n",
    "print(classification_report(labels_test, best_knn.predict(features_test)))"
   ]
  },
  {
   "cell_type": "code",
   "execution_count": null,
   "metadata": {},
   "outputs": [],
   "source": []
  }
 ],
 "metadata": {
  "colab": {
   "collapsed_sections": [],
   "name": "Introduccion Aprendizaje Supervisado - news_feeling.ipynb",
   "provenance": []
  },
  "kernelspec": {
   "display_name": "Python 3",
   "language": "python",
   "name": "python3"
  },
  "language_info": {
   "codemirror_mode": {
    "name": "ipython",
    "version": 3
   },
   "file_extension": ".py",
   "mimetype": "text/x-python",
   "name": "python",
   "nbconvert_exporter": "python",
   "pygments_lexer": "ipython3",
   "version": "3.8.8"
  },
  "toc": {
   "base_numbering": 1,
   "nav_menu": {},
   "number_sections": false,
   "sideBar": true,
   "skip_h1_title": false,
   "title_cell": "Table of Contents",
   "title_sidebar": "Contents",
   "toc_cell": false,
   "toc_position": {},
   "toc_section_display": true,
   "toc_window_display": false
  }
 },
 "nbformat": 4,
 "nbformat_minor": 4
}
